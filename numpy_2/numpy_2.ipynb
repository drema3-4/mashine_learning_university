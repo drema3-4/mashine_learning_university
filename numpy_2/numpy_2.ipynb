{
 "cells": [
  {
   "cell_type": "code",
   "execution_count": 10,
   "metadata": {},
   "outputs": [],
   "source": [
    "import numpy as np"
   ]
  },
  {
   "cell_type": "markdown",
   "metadata": {},
   "source": [
    "# 1. Распаковка данных."
   ]
  },
  {
   "cell_type": "code",
   "execution_count": 226,
   "metadata": {},
   "outputs": [],
   "source": [
    "d1 = np.loadtxt(fname='wind-data-1961.csv', comments='%', delimiter=',')\n",
    "d2 = np.loadtxt(fname='wind-data-1962.csv', comments='%', delimiter=',')\n",
    "d3 = np.loadtxt(fname='wind-data-1963.csv', comments='%', delimiter=',')\n",
    "d4 = np.loadtxt(fname='wind-data-1964.csv', comments='%', delimiter=',')\n",
    "d5 = np.loadtxt(fname='wind-data-1965.csv', comments='%', delimiter=',')\n",
    "d6 = np.loadtxt(fname='wind-data-1966.csv', comments='%', delimiter=',')\n",
    "d7 = np.loadtxt(fname='wind-data-1967.csv', comments='%', delimiter=',')\n",
    "d8 = np.loadtxt(fname='wind-data-1968.csv', comments='%', delimiter=',')\n",
    "d9 = np.loadtxt(fname='wind-data-1969.csv', comments='%', delimiter=',')\n",
    "d10 = np.loadtxt(fname='wind-data-1970.csv', comments='%', delimiter=',')"
   ]
  },
  {
   "cell_type": "markdown",
   "metadata": {},
   "source": [
    "# 2. Заполнить недостающие значения года соответствующим годом. Заполнить недостающие значения скорости ветра в точке средним значением в этой точке."
   ]
  },
  {
   "cell_type": "markdown",
   "metadata": {},
   "source": [
    "Функция заполнения столбца года:"
   ]
  },
  {
   "cell_type": "code",
   "execution_count": 227,
   "metadata": {},
   "outputs": [],
   "source": [
    "def fill_year(data):\n",
    "    data[:, 0][data[:, 0] == 0] = data[:, 0].max()"
   ]
  },
  {
   "cell_type": "markdown",
   "metadata": {},
   "source": [
    "Функция заполнения пропусков в реперных точках. (реализована сомнительно):"
   ]
  },
  {
   "cell_type": "code",
   "execution_count": 228,
   "metadata": {},
   "outputs": [],
   "source": [
    "def fill_wind(data):\n",
    "    for i in np.arange(data.shape[0]):\n",
    "        data[i][np.isnan(data[i])] = np.nanmean(data[i])"
   ]
  },
  {
   "cell_type": "markdown",
   "metadata": {},
   "source": [
    "Проверим:"
   ]
  },
  {
   "cell_type": "code",
   "execution_count": 229,
   "metadata": {},
   "outputs": [
    {
     "data": {
      "text/plain": [
       "(np.int64(214), np.float64(0.0))"
      ]
     },
     "execution_count": 229,
     "metadata": {},
     "output_type": "execute_result"
    }
   ],
   "source": [
    "np.isnan(d1).sum(), d1[:, 0].min()"
   ]
  },
  {
   "cell_type": "code",
   "execution_count": 230,
   "metadata": {},
   "outputs": [],
   "source": [
    "fill_year(d1)\n",
    "fill_wind(d1)"
   ]
  },
  {
   "cell_type": "code",
   "execution_count": 231,
   "metadata": {},
   "outputs": [
    {
     "data": {
      "text/plain": [
       "(np.int64(0), np.float64(61.0))"
      ]
     },
     "execution_count": 231,
     "metadata": {},
     "output_type": "execute_result"
    }
   ],
   "source": [
    "np.isnan(d1).sum(), d1[:, 0].min()"
   ]
  },
  {
   "cell_type": "markdown",
   "metadata": {},
   "source": [
    "# 3. Посчитайте минимальное, максимальное и среднее значение скорости ветра, а также среднее квадратическое отклонение скорости ветра, по всем реперным точкам за все дни (каждое значение считается относительно всего сета). Выведите полученные 4 значения."
   ]
  },
  {
   "cell_type": "markdown",
   "metadata": {},
   "source": [
    "Функция подсчёта значений:"
   ]
  },
  {
   "cell_type": "code",
   "execution_count": 232,
   "metadata": {},
   "outputs": [],
   "source": [
    "def calc_for_all_days(data):\n",
    "    print('-----------------------------\\nyear = {0}'.format(data[0,0]))\n",
    "    print('min for all = {0}'.format(data[:, 3:].min()))\n",
    "    print('max for all = {0}'.format(data[:, 3:].max()))\n",
    "    print('avg for all = {0}'.format(data[:, 3:].mean()))\n",
    "    print('ms for all = {0}'.format(data[:, 3:].std()))\n",
    "    print('-----------------------------')"
   ]
  },
  {
   "cell_type": "markdown",
   "metadata": {},
   "source": [
    "Проверим:"
   ]
  },
  {
   "cell_type": "code",
   "execution_count": 233,
   "metadata": {},
   "outputs": [
    {
     "name": "stdout",
     "output_type": "stream",
     "text": [
      "-----------------------------\n",
      "year = 61.0\n",
      "min for all = 0.42\n",
      "max for all = 33.45\n",
      "avg for all = 10.531260110893674\n",
      "ms for all = 5.069212500611363\n",
      "-----------------------------\n"
     ]
    }
   ],
   "source": [
    "calc_for_all_days(d1)\n"
   ]
  },
  {
   "cell_type": "markdown",
   "metadata": {},
   "source": [
    "# 4. Посчитайте минимальное, максимальное и среднее значение скорости ветра, а также среднее квадратическое отклонение скорости ветра, каждой реперной точки по всем дням. Для каждой точки должен получиться свой набор значений. Выведите полученные значения."
   ]
  },
  {
   "cell_type": "markdown",
   "metadata": {},
   "source": [
    "Функция подсчёта значений:"
   ]
  },
  {
   "cell_type": "code",
   "execution_count": 234,
   "metadata": {},
   "outputs": [],
   "source": [
    "def calc_for_every_point(data):\n",
    "    return np.column_stack((data[:, 3:].min(axis=0), data[:, 3:].max(axis=0), data[:, 3:].mean(axis=0), data[:, 3:].std(axis=0),))"
   ]
  },
  {
   "cell_type": "markdown",
   "metadata": {},
   "source": [
    "Проверим:"
   ]
  },
  {
   "cell_type": "code",
   "execution_count": 235,
   "metadata": {},
   "outputs": [
    {
     "data": {
      "text/plain": [
       "array([[ 2.88      , 28.75      , 12.31923288,  5.33093104],\n",
       "       [ 1.13      , 24.21      , 10.60015861,  4.53943159],\n",
       "       [ 2.13      , 32.71      , 11.59437268,  4.92760733],\n",
       "       [ 0.42      , 25.92923077,  7.36138251,  3.91969257],\n",
       "       [ 2.21      , 28.5       , 11.08645823,  4.56879505],\n",
       "       [ 0.83      , 25.92923077,  8.0549958 ,  4.12422598],\n",
       "       [ 1.25      , 25.62      ,  9.96658617,  4.66395322],\n",
       "       [ 0.58      , 21.37      ,  9.11196955,  4.29765801],\n",
       "       [ 0.5       , 21.46      ,  8.95826032,  4.01097631],\n",
       "       [ 1.25      , 26.38      , 10.07196512,  4.22888369],\n",
       "       [ 2.71      , 29.63      , 13.55899878,  5.50140945],\n",
       "       [ 2.        , 33.45      , 13.69074069,  5.6887584 ]])"
      ]
     },
     "execution_count": 235,
     "metadata": {},
     "output_type": "execute_result"
    }
   ],
   "source": [
    "calc_for_every_point(d1)"
   ]
  },
  {
   "cell_type": "markdown",
   "metadata": {},
   "source": [
    "# 5. Посчитайте минимальное, максимальное и среднее значение скорости ветра, а также среднее квадратическое отклонение скорости ветра, всех реперных точек каждого дня. Должен получиться свой набор значений для каждого дня. Добавьте в датасет новую колонку с максимальными значениями по дням. (Подсказка: используйте функции np.hstack и np.reshape). Выведите полученные значения."
   ]
  },
  {
   "cell_type": "markdown",
   "metadata": {},
   "source": [
    "Функция для вычисления значений:"
   ]
  },
  {
   "cell_type": "code",
   "execution_count": 236,
   "metadata": {},
   "outputs": [],
   "source": [
    "def calc_for_every_day(data):\n",
    "    return np.column_stack((data[:,3:].min(axis=1), data[:,3:].max(axis=1), data[:,3:].mean(axis=1), data[:,3:].std(axis=1)))"
   ]
  },
  {
   "cell_type": "markdown",
   "metadata": {},
   "source": [
    "Проверим:"
   ]
  },
  {
   "cell_type": "code",
   "execution_count": 237,
   "metadata": {},
   "outputs": [
    {
     "data": {
      "text/plain": [
       "array([[ 9.29      , 18.5       , 13.16071429,  2.60735195],\n",
       "       [ 6.5       , 17.54      , 11.79833333,  3.28972854],\n",
       "       [ 6.17      , 18.5       , 11.34166667,  3.50543348],\n",
       "       ...,\n",
       "       [ 7.25      , 23.21      , 12.81964286,  4.32031706],\n",
       "       [ 5.75      , 29.33      , 12.47916667,  6.08288783],\n",
       "       [ 3.08      , 14.67      ,  6.91166667,  3.32356945]])"
      ]
     },
     "execution_count": 237,
     "metadata": {},
     "output_type": "execute_result"
    }
   ],
   "source": [
    "calc_for_every_day(d1)"
   ]
  },
  {
   "cell_type": "markdown",
   "metadata": {},
   "source": [
    "Функция, добавляющая новый столбец и вычисляющая максимальные значения по дням для него:"
   ]
  },
  {
   "cell_type": "code",
   "execution_count": 238,
   "metadata": {},
   "outputs": [],
   "source": [
    "def add_column_and_calc_max(data):\n",
    "    return np.column_stack((data, data[:, 3:].max(axis=1)))"
   ]
  },
  {
   "cell_type": "markdown",
   "metadata": {},
   "source": [
    "Проверим:"
   ]
  },
  {
   "cell_type": "code",
   "execution_count": 239,
   "metadata": {},
   "outputs": [
    {
     "data": {
      "text/plain": [
       "(array([61.        ,  1.        ,  1.        , 15.04      , 14.96      ,\n",
       "        13.17      ,  9.29      , 14.72857143,  9.87      , 13.67      ,\n",
       "        10.25      , 10.83      , 12.58      , 18.5       , 15.04      ,\n",
       "        18.5       ]),\n",
       " (365, 16))"
      ]
     },
     "execution_count": 239,
     "metadata": {},
     "output_type": "execute_result"
    }
   ],
   "source": [
    "d1 = add_column_and_calc_max(d1)\n",
    "d1[0], d1.shape"
   ]
  },
  {
   "cell_type": "markdown",
   "metadata": {},
   "source": [
    "# 6. Для каждого дня найдите точку с наибольшим значением скорости ветра. Выведите массив найденных номеров реперных точек (массив целых чисел)."
   ]
  },
  {
   "cell_type": "markdown",
   "metadata": {},
   "source": [
    "Функция подсчёта значений:"
   ]
  },
  {
   "cell_type": "code",
   "execution_count": 240,
   "metadata": {},
   "outputs": [],
   "source": [
    "def calc_max_for_every_day(data):\n",
    "    return data[:, 3: data.shape[1] - 2].argmax(axis=1) + 1"
   ]
  },
  {
   "cell_type": "markdown",
   "metadata": {},
   "source": [
    "Проверим:"
   ]
  },
  {
   "cell_type": "code",
   "execution_count": 241,
   "metadata": {},
   "outputs": [
    {
     "data": {
      "text/plain": [
       "array([11, 11,  1,  3,  1,  1,  2, 11, 11,  3,  3,  1,  1,  1,  1,  1,  1,\n",
       "        3,  7,  2,  1,  6,  3,  3, 11,  1, 11, 11, 11, 10,  1,  2,  2,  1,\n",
       "       11,  1, 11,  1,  1, 11,  1, 11, 11, 11,  3, 11, 11, 11, 11, 11, 11,\n",
       "       11,  4, 11,  3,  1,  1, 11, 11, 11, 11, 11, 11,  2, 11, 11, 11, 11,\n",
       "       11, 11,  7, 11, 11, 11, 11, 11, 11,  3,  7,  3, 10, 11, 11, 11,  6,\n",
       "        6, 11,  2,  1,  2, 11, 11,  3, 11,  3, 11,  3, 10,  6,  5, 10,  3,\n",
       "        3,  9,  2, 11, 11, 11, 11,  1, 11,  1,  1, 11,  9,  1, 10,  2, 11,\n",
       "        4, 11,  1, 11,  2, 11, 11, 11, 11, 10,  9, 11,  2,  3,  8,  3,  3,\n",
       "        3,  3, 11,  8,  3, 11,  7, 11, 11,  3,  1, 11,  3,  1,  3,  1,  6,\n",
       "       11, 11, 11, 11, 11,  1,  2,  1,  1,  3,  7, 11, 11, 11,  3, 11, 11,\n",
       "        9, 11,  7, 11, 11, 11,  1, 11, 11, 11, 11,  5,  1, 11,  1,  1,  2,\n",
       "       11,  5,  5,  5,  2,  1, 11,  1,  1,  1, 10, 11, 11, 11, 11, 11,  3,\n",
       "       11, 11, 11,  4,  1, 11, 11,  8,  3,  4, 11, 11,  5,  5, 11,  1,  5,\n",
       "       11,  1, 11,  3,  1,  1,  5, 11, 11,  1, 11,  5,  6,  3,  3, 11, 11,\n",
       "       11,  2, 11, 11, 11, 10,  1,  1,  1, 11,  1,  1,  3,  1, 11, 11, 11,\n",
       "       11, 11,  1,  1, 11,  7,  3,  3, 11, 11, 11, 11, 11,  1, 11,  1, 11,\n",
       "        1,  1,  1,  3,  3,  1,  3,  1, 11,  3, 11,  8, 11, 11, 11, 11, 11,\n",
       "        1,  1,  1, 10, 10,  1, 11, 11,  1,  3,  1,  7,  7, 11, 11, 11,  5,\n",
       "        4,  8, 11, 11,  3, 11,  9,  1,  3,  3,  3,  3,  3, 11,  1,  3,  3,\n",
       "        3,  1,  7, 11, 11,  2, 11,  2, 11, 11,  1,  1,  7,  1,  1, 11,  4,\n",
       "        1,  3, 11,  1,  7, 11,  2,  2, 11, 11,  1,  1,  1,  1,  1,  1,  1,\n",
       "        1,  1,  3,  7, 11,  3,  3,  7])"
      ]
     },
     "execution_count": 241,
     "metadata": {},
     "output_type": "execute_result"
    }
   ],
   "source": [
    "calc_max_for_every_day(d1)"
   ]
  },
  {
   "cell_type": "code",
   "execution_count": 242,
   "metadata": {},
   "outputs": [
    {
     "data": {
      "text/plain": [
       "array([15.04      , 14.96      , 13.17      ,  9.29      , 14.72857143,\n",
       "        9.87      , 13.67      , 10.25      , 10.83      , 12.58      ,\n",
       "       18.5       ])"
      ]
     },
     "execution_count": 242,
     "metadata": {},
     "output_type": "execute_result"
    }
   ],
   "source": [
    "d1[0, 3: d1.shape[1] - 2]"
   ]
  },
  {
   "cell_type": "markdown",
   "metadata": {},
   "source": [
    "# 7. Найдите год, месяц и день, в который была зафиксирована самая большая скорость ветра. Выведите найденную дату."
   ]
  },
  {
   "cell_type": "markdown",
   "metadata": {},
   "source": [
    "Функция подсчёта значений:"
   ]
  },
  {
   "cell_type": "code",
   "execution_count": 247,
   "metadata": {},
   "outputs": [],
   "source": [
    "def calc_max_for_all_days(data):\n",
    "    return data[data[:, -1].argmax(axis=0), :3]"
   ]
  },
  {
   "cell_type": "markdown",
   "metadata": {},
   "source": [
    "Проверим:"
   ]
  },
  {
   "cell_type": "code",
   "execution_count": 248,
   "metadata": {},
   "outputs": [
    {
     "data": {
      "text/plain": [
       "array([61., 10., 18.])"
      ]
     },
     "execution_count": 248,
     "metadata": {},
     "output_type": "execute_result"
    }
   ],
   "source": [
    "calc_max_for_all_days(d1)"
   ]
  },
  {
   "cell_type": "code",
   "execution_count": 251,
   "metadata": {},
   "outputs": [
    {
     "data": {
      "text/plain": [
       "np.float64(33.45)"
      ]
     },
     "execution_count": 251,
     "metadata": {},
     "output_type": "execute_result"
    }
   ],
   "source": [
    "d1[:, 3:-1].max()"
   ]
  },
  {
   "cell_type": "code",
   "execution_count": 253,
   "metadata": {},
   "outputs": [
    {
     "data": {
      "text/plain": [
       "array([28.33      , 18.29      , 22.63      , 17.83      , 18.08      ,\n",
       "       11.96      , 21.84      , 17.33      , 16.17      , 26.38      ,\n",
       "       22.94928571, 33.45      , 33.45      ])"
      ]
     },
     "execution_count": 253,
     "metadata": {},
     "output_type": "execute_result"
    }
   ],
   "source": [
    "d1[d1[:, -1].argmax(axis=0), 3:]"
   ]
  },
  {
   "cell_type": "markdown",
   "metadata": {},
   "source": [
    "# 8. Найдите среднюю скорость в январе для каждой реперной точки. Выведите полученные значения."
   ]
  },
  {
   "cell_type": "markdown",
   "metadata": {},
   "source": [
    "Функция подсчёта значений:"
   ]
  },
  {
   "cell_type": "code",
   "execution_count": 267,
   "metadata": {},
   "outputs": [],
   "source": [
    "def calc_for_every_point_in_January(data):\n",
    "    return data[data[:, 1] == 1][:, 3:-1].mean(axis=0)"
   ]
  },
  {
   "cell_type": "markdown",
   "metadata": {},
   "source": [
    "Проверим:"
   ]
  },
  {
   "cell_type": "code",
   "execution_count": 268,
   "metadata": {},
   "outputs": [
    {
     "data": {
      "text/plain": [
       "array([15.2416129 , 12.18279334, 13.55545906,  8.23255051, 11.66711804,\n",
       "        8.96571429, 11.64966147,  9.20645161,  9.51747253, 10.24531017,\n",
       "       13.73818859, 14.6318894 ])"
      ]
     },
     "execution_count": 268,
     "metadata": {},
     "output_type": "execute_result"
    }
   ],
   "source": [
    "calc_for_every_point_in_January(d1)"
   ]
  },
  {
   "cell_type": "code",
   "execution_count": 271,
   "metadata": {},
   "outputs": [
    {
     "data": {
      "text/plain": [
       "np.float64(15.241612903225807)"
      ]
     },
     "execution_count": 271,
     "metadata": {},
     "output_type": "execute_result"
    }
   ],
   "source": [
    "d1[d1[:, 1] == 1][:,3].mean()"
   ]
  },
  {
   "cell_type": "markdown",
   "metadata": {},
   "source": [
    "# 9. Сохраните получившийся датасет в csv файл. Проследите, чтобы целые числа были сохранены в целочисленном формате, без нулей в дробной части. Кадое число с плавающей точкой сохраните с точностью ровно в 4 знака после точки."
   ]
  },
  {
   "cell_type": "markdown",
   "metadata": {},
   "source": [
    "Функция подготовки и сохранения массива:"
   ]
  },
  {
   "cell_type": "code",
   "execution_count": 317,
   "metadata": {},
   "outputs": [],
   "source": [
    "def save_data(data, name):\n",
    "\n",
    "    np.savetxt(\"./new/{0}.csv\".format(name), data, delimiter=\",\", fmt='%d %d %d %.4f %.4f %.4f %.4f %.4f %.4f %.4f %.4f %.4f %.4f %.4f %.4f %.4f')"
   ]
  },
  {
   "cell_type": "markdown",
   "metadata": {},
   "source": [
    "Проверим:"
   ]
  },
  {
   "cell_type": "code",
   "execution_count": 318,
   "metadata": {},
   "outputs": [],
   "source": [
    "save_data(d1, 'd1')"
   ]
  },
  {
   "cell_type": "markdown",
   "metadata": {},
   "source": [
    "# 10. Посчитайте среднюю скорость ветра для каждого месяца в датасете. выведите полученные значения."
   ]
  },
  {
   "cell_type": "markdown",
   "metadata": {},
   "source": [
    "Функция подсчёта значений:"
   ]
  },
  {
   "cell_type": "code",
   "execution_count": 273,
   "metadata": {},
   "outputs": [],
   "source": [
    "def mean_for_every_month(data):\n",
    "    return np.array([data[data[:, 1] == 1][:, 3:-1].mean(), \n",
    "                     data[data[:, 1] == 2][:, 3:-1].mean(),\n",
    "                     data[data[:, 1] == 3][:, 3:-1].mean(),\n",
    "                     data[data[:, 1] == 4][:, 3:-1].mean(),\n",
    "                     data[data[:, 1] == 5][:, 3:-1].mean(),\n",
    "                     data[data[:, 1] == 6][:, 3:-1].mean(),\n",
    "                     data[data[:, 1] == 7][:, 3:-1].mean(),\n",
    "                     data[data[:, 1] == 8][:, 3:-1].mean(),\n",
    "                     data[data[:, 1] == 9][:, 3:-1].mean(),\n",
    "                     data[data[:, 1] == 10][:, 3:-1].mean(),\n",
    "                     data[data[:, 1] == 11][:, 3:-1].mean(),\n",
    "                     data[data[:, 1] == 12][:, 3:-1].mean()])"
   ]
  },
  {
   "cell_type": "markdown",
   "metadata": {},
   "source": [
    "Проверим:"
   ]
  },
  {
   "cell_type": "code",
   "execution_count": 274,
   "metadata": {},
   "outputs": [
    {
     "data": {
      "text/plain": [
       "array([11.56951849, 13.65126284, 11.31739042,  8.66312439,  9.0946947 ,\n",
       "        9.85003358,  9.2188333 , 10.96371898, 10.28344031, 11.62980998,\n",
       "        9.23837118, 11.06492113])"
      ]
     },
     "execution_count": 274,
     "metadata": {},
     "output_type": "execute_result"
    }
   ],
   "source": [
    "mean_for_every_month(d1)"
   ]
  }
 ],
 "metadata": {
  "kernelspec": {
   "display_name": "ml_university",
   "language": "python",
   "name": "python3"
  },
  "language_info": {
   "codemirror_mode": {
    "name": "ipython",
    "version": 3
   },
   "file_extension": ".py",
   "mimetype": "text/x-python",
   "name": "python",
   "nbconvert_exporter": "python",
   "pygments_lexer": "ipython3",
   "version": "3.12.5"
  }
 },
 "nbformat": 4,
 "nbformat_minor": 2
}
