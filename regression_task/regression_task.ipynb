{
 "cells": [
  {
   "cell_type": "markdown",
   "metadata": {},
   "source": [
    "# Загрузка датасета"
   ]
  },
  {
   "cell_type": "markdown",
   "metadata": {},
   "source": [
    "Необходимые библиотеки"
   ]
  },
  {
   "cell_type": "code",
   "execution_count": 1,
   "metadata": {},
   "outputs": [],
   "source": [
    "import pandas as pd"
   ]
  },
  {
   "cell_type": "markdown",
   "metadata": {},
   "source": [
    "Загружаем датасет"
   ]
  },
  {
   "cell_type": "code",
   "execution_count": 2,
   "metadata": {},
   "outputs": [],
   "source": [
    "data = pd.read_csv('laptop_price.csv', encoding='ISO-8859-1')"
   ]
  },
  {
   "cell_type": "markdown",
   "metadata": {},
   "source": [
    "# Первичный осмотр датасета"
   ]
  },
  {
   "cell_type": "markdown",
   "metadata": {},
   "source": [
    "Количество строк и столбцов"
   ]
  },
  {
   "cell_type": "code",
   "execution_count": 3,
   "metadata": {},
   "outputs": [
    {
     "data": {
      "text/plain": [
       "(1303, 13)"
      ]
     },
     "execution_count": 3,
     "metadata": {},
     "output_type": "execute_result"
    }
   ],
   "source": [
    "data.shape"
   ]
  },
  {
   "cell_type": "markdown",
   "metadata": {},
   "source": [
    "Названия признаков"
   ]
  },
  {
   "cell_type": "code",
   "execution_count": 4,
   "metadata": {},
   "outputs": [
    {
     "data": {
      "text/plain": [
       "Index(['laptop_ID', 'Company', 'Product', 'TypeName', 'Inches',\n",
       "       'ScreenResolution', 'Cpu', 'Ram', 'Memory', 'Gpu', 'OpSys', 'Weight',\n",
       "       'Price_euros'],\n",
       "      dtype='object')"
      ]
     },
     "execution_count": 4,
     "metadata": {},
     "output_type": "execute_result"
    }
   ],
   "source": [
    "data.columns"
   ]
  },
  {
   "cell_type": "markdown",
   "metadata": {},
   "source": [
    "Сводка информации по пропускам и типам"
   ]
  },
  {
   "cell_type": "code",
   "execution_count": 5,
   "metadata": {},
   "outputs": [
    {
     "name": "stdout",
     "output_type": "stream",
     "text": [
      "<class 'pandas.core.frame.DataFrame'>\n",
      "RangeIndex: 1303 entries, 0 to 1302\n",
      "Data columns (total 13 columns):\n",
      " #   Column            Non-Null Count  Dtype  \n",
      "---  ------            --------------  -----  \n",
      " 0   laptop_ID         1303 non-null   int64  \n",
      " 1   Company           1303 non-null   object \n",
      " 2   Product           1303 non-null   object \n",
      " 3   TypeName          1303 non-null   object \n",
      " 4   Inches            1303 non-null   float64\n",
      " 5   ScreenResolution  1303 non-null   object \n",
      " 6   Cpu               1303 non-null   object \n",
      " 7   Ram               1303 non-null   object \n",
      " 8   Memory            1303 non-null   object \n",
      " 9   Gpu               1303 non-null   object \n",
      " 10  OpSys             1303 non-null   object \n",
      " 11  Weight            1303 non-null   object \n",
      " 12  Price_euros       1303 non-null   float64\n",
      "dtypes: float64(2), int64(1), object(10)\n",
      "memory usage: 132.5+ KB\n"
     ]
    }
   ],
   "source": [
    "data.info()"
   ]
  },
  {
   "cell_type": "markdown",
   "metadata": {},
   "source": [
    "Посмоттрим на сами данные"
   ]
  },
  {
   "cell_type": "code",
   "execution_count": 6,
   "metadata": {},
   "outputs": [
    {
     "data": {
      "text/html": [
       "<div>\n",
       "<style scoped>\n",
       "    .dataframe tbody tr th:only-of-type {\n",
       "        vertical-align: middle;\n",
       "    }\n",
       "\n",
       "    .dataframe tbody tr th {\n",
       "        vertical-align: top;\n",
       "    }\n",
       "\n",
       "    .dataframe thead th {\n",
       "        text-align: right;\n",
       "    }\n",
       "</style>\n",
       "<table border=\"1\" class=\"dataframe\">\n",
       "  <thead>\n",
       "    <tr style=\"text-align: right;\">\n",
       "      <th></th>\n",
       "      <th>laptop_ID</th>\n",
       "      <th>Company</th>\n",
       "      <th>Product</th>\n",
       "      <th>TypeName</th>\n",
       "      <th>Inches</th>\n",
       "      <th>ScreenResolution</th>\n",
       "      <th>Cpu</th>\n",
       "      <th>Ram</th>\n",
       "      <th>Memory</th>\n",
       "      <th>Gpu</th>\n",
       "      <th>OpSys</th>\n",
       "      <th>Weight</th>\n",
       "      <th>Price_euros</th>\n",
       "    </tr>\n",
       "  </thead>\n",
       "  <tbody>\n",
       "    <tr>\n",
       "      <th>312</th>\n",
       "      <td>317</td>\n",
       "      <td>MSI</td>\n",
       "      <td>GE63VR 7RF</td>\n",
       "      <td>Gaming</td>\n",
       "      <td>15.6</td>\n",
       "      <td>IPS Panel Full HD 1920x1080</td>\n",
       "      <td>Intel Core i7 7700HQ 2.8GHz</td>\n",
       "      <td>16GB</td>\n",
       "      <td>256GB SSD +  1TB HDD</td>\n",
       "      <td>Nvidia GeForce GTX 1070</td>\n",
       "      <td>Windows 10</td>\n",
       "      <td>2.8kg</td>\n",
       "      <td>2099.0</td>\n",
       "    </tr>\n",
       "    <tr>\n",
       "      <th>137</th>\n",
       "      <td>140</td>\n",
       "      <td>Asus</td>\n",
       "      <td>FX753VD-GC086T (i5-7300HQ/8GB/1TB</td>\n",
       "      <td>Gaming</td>\n",
       "      <td>17.3</td>\n",
       "      <td>Full HD 1920x1080</td>\n",
       "      <td>Intel Core i5 7300HQ 2.5GHz</td>\n",
       "      <td>8GB</td>\n",
       "      <td>128GB SSD +  1TB HDD</td>\n",
       "      <td>Nvidia GeForce GTX 1050</td>\n",
       "      <td>Windows 10</td>\n",
       "      <td>3kg</td>\n",
       "      <td>938.0</td>\n",
       "    </tr>\n",
       "    <tr>\n",
       "      <th>1107</th>\n",
       "      <td>1122</td>\n",
       "      <td>Lenovo</td>\n",
       "      <td>Yoga 500-15ISK</td>\n",
       "      <td>2 in 1 Convertible</td>\n",
       "      <td>15.6</td>\n",
       "      <td>IPS Panel Full HD / Touchscreen 1920x1080</td>\n",
       "      <td>Intel Core i5 6200U 2.3GHz</td>\n",
       "      <td>4GB</td>\n",
       "      <td>256GB SSD</td>\n",
       "      <td>Intel HD Graphics 520</td>\n",
       "      <td>Windows 10</td>\n",
       "      <td>2.1kg</td>\n",
       "      <td>867.0</td>\n",
       "    </tr>\n",
       "    <tr>\n",
       "      <th>126</th>\n",
       "      <td>129</td>\n",
       "      <td>HP</td>\n",
       "      <td>Probook 440</td>\n",
       "      <td>Notebook</td>\n",
       "      <td>14.0</td>\n",
       "      <td>Full HD 1920x1080</td>\n",
       "      <td>Intel Core i5 8250U 1.6GHz</td>\n",
       "      <td>8GB</td>\n",
       "      <td>1TB HDD</td>\n",
       "      <td>Intel UHD Graphics 620</td>\n",
       "      <td>Windows 10</td>\n",
       "      <td>1.63kg</td>\n",
       "      <td>812.0</td>\n",
       "    </tr>\n",
       "    <tr>\n",
       "      <th>506</th>\n",
       "      <td>513</td>\n",
       "      <td>Asus</td>\n",
       "      <td>ZenBook UX510UX-CN211T</td>\n",
       "      <td>Notebook</td>\n",
       "      <td>15.6</td>\n",
       "      <td>Full HD 1920x1080</td>\n",
       "      <td>Intel Core i7 7500U 2.7GHz</td>\n",
       "      <td>8GB</td>\n",
       "      <td>256GB SSD +  1TB HDD</td>\n",
       "      <td>Intel HD Graphics 620</td>\n",
       "      <td>Windows 10</td>\n",
       "      <td>2kg</td>\n",
       "      <td>1224.0</td>\n",
       "    </tr>\n",
       "  </tbody>\n",
       "</table>\n",
       "</div>"
      ],
      "text/plain": [
       "      laptop_ID Company                            Product  \\\n",
       "312         317     MSI                         GE63VR 7RF   \n",
       "137         140    Asus  FX753VD-GC086T (i5-7300HQ/8GB/1TB   \n",
       "1107       1122  Lenovo                     Yoga 500-15ISK   \n",
       "126         129      HP                        Probook 440   \n",
       "506         513    Asus             ZenBook UX510UX-CN211T   \n",
       "\n",
       "                TypeName  Inches                           ScreenResolution  \\\n",
       "312               Gaming    15.6                IPS Panel Full HD 1920x1080   \n",
       "137               Gaming    17.3                          Full HD 1920x1080   \n",
       "1107  2 in 1 Convertible    15.6  IPS Panel Full HD / Touchscreen 1920x1080   \n",
       "126             Notebook    14.0                          Full HD 1920x1080   \n",
       "506             Notebook    15.6                          Full HD 1920x1080   \n",
       "\n",
       "                              Cpu   Ram                Memory  \\\n",
       "312   Intel Core i7 7700HQ 2.8GHz  16GB  256GB SSD +  1TB HDD   \n",
       "137   Intel Core i5 7300HQ 2.5GHz   8GB  128GB SSD +  1TB HDD   \n",
       "1107   Intel Core i5 6200U 2.3GHz   4GB             256GB SSD   \n",
       "126    Intel Core i5 8250U 1.6GHz   8GB               1TB HDD   \n",
       "506    Intel Core i7 7500U 2.7GHz   8GB  256GB SSD +  1TB HDD   \n",
       "\n",
       "                          Gpu       OpSys  Weight  Price_euros  \n",
       "312   Nvidia GeForce GTX 1070  Windows 10   2.8kg       2099.0  \n",
       "137   Nvidia GeForce GTX 1050  Windows 10     3kg        938.0  \n",
       "1107    Intel HD Graphics 520  Windows 10   2.1kg        867.0  \n",
       "126    Intel UHD Graphics 620  Windows 10  1.63kg        812.0  \n",
       "506     Intel HD Graphics 620  Windows 10     2kg       1224.0  "
      ]
     },
     "execution_count": 6,
     "metadata": {},
     "output_type": "execute_result"
    }
   ],
   "source": [
    "data.sample(5)"
   ]
  },
  {
   "cell_type": "markdown",
   "metadata": {},
   "source": [
    "# Смотрим на уникальные значения категориальных столбцов"
   ]
  },
  {
   "cell_type": "markdown",
   "metadata": {},
   "source": [
    "Перечислим категориальные столбцы"
   ]
  },
  {
   "cell_type": "code",
   "execution_count": 7,
   "metadata": {},
   "outputs": [],
   "source": [
    "cat_cols = ['Company', 'Product', 'TypeName', 'ScreenResolution', 'Cpu', 'Ram', 'Memory', 'Gpu', 'OpSys', 'Weight']"
   ]
  },
  {
   "cell_type": "markdown",
   "metadata": {},
   "source": [
    "Постмотрим на уникальные значения каждого из столбцов"
   ]
  },
  {
   "cell_type": "code",
   "execution_count": 8,
   "metadata": {},
   "outputs": [
    {
     "data": {
      "text/plain": [
       "(array(['Apple', 'HP', 'Acer', 'Asus', 'Dell', 'Lenovo', 'Chuwi', 'MSI',\n",
       "        'Microsoft', 'Toshiba', 'Huawei', 'Xiaomi', 'Vero', 'Razer',\n",
       "        'Mediacom', 'Samsung', 'Google', 'Fujitsu', 'LG'], dtype=object),\n",
       " 19)"
      ]
     },
     "execution_count": 8,
     "metadata": {},
     "output_type": "execute_result"
    }
   ],
   "source": [
    "data['Company'].unique(), len(data['Company'].unique())"
   ]
  },
  {
   "cell_type": "code",
   "execution_count": 9,
   "metadata": {},
   "outputs": [
    {
     "data": {
      "text/plain": [
       "(array(['MacBook Pro', 'Macbook Air', '250 G6', 'Aspire 3',\n",
       "        'ZenBook UX430UN', 'Swift 3', 'Inspiron 3567', 'MacBook 12\"',\n",
       "        'IdeaPad 320-15IKB', 'XPS 13', 'Vivobook E200HA',\n",
       "        'Legion Y520-15IKBN', '255 G6', 'Inspiron 5379',\n",
       "        '15-BS101nv (i7-8550U/8GB/256GB/FHD/W10)', 'MacBook Air',\n",
       "        'Inspiron 5570', 'Latitude 5590', 'ProBook 470', 'LapBook 15.6\"',\n",
       "        'E402WA-GA010T (E2-6110/2GB/32GB/W10)',\n",
       "        '17-ak001nv (A6-9220/4GB/500GB/Radeon', 'IdeaPad 120S-14IAP',\n",
       "        'Inspiron 5770', 'ProBook 450',\n",
       "        'X540UA-DM186 (i3-6006U/4GB/1TB/FHD/Linux)', 'Inspiron 7577',\n",
       "        'X542UQ-GO005 (i5-7200U/8GB/1TB/GeForce', 'Aspire A515-51G',\n",
       "        'Inspiron 7773', 'IdeaPad 320-15ISK', 'Rog Strix',\n",
       "        'X751NV-TY001T (N4200/4GB/1TB/GeForce', 'Yoga Book', 'ProBook 430',\n",
       "        'Inspiron 3576', '15-bs002nv (i3-6006U/4GB/128GB/FHD/W10)',\n",
       "        'VivoBook Max', 'GS73VR 7RG',\n",
       "        'X541UA-DM1897 (i3-6006U/4GB/256GB/FHD/Linux)', 'Vostro 5471',\n",
       "        'IdeaPad 520S-14IKB',\n",
       "        'UX410UA-GV350T (i5-8250U/8GB/256GB/FHD/W10)', 'ZenBook Pro',\n",
       "        'Stream 14-AX040wm', 'V310-15ISK (i5-7200U/4GB/1TB/FHD/W10)',\n",
       "        'FX753VE-GC093 (i7-7700HQ/12GB/1TB/GeForce', 'Surface Laptop',\n",
       "        'Inspiron 5370', 'GL72M 7RDX', 'Aspire E5-475',\n",
       "        'FX503VD-E4022T (i7-7700HQ/8GB/1TB/GeForce', 'IdeaPad 320-15IKBN',\n",
       "        'Aspire A515-51G-32MX', 'ProBook 440', 'IdeaPad 320-15AST',\n",
       "        'Pavilion 15-CK000nv', 'FX503VM-E4007T (i7-7700HQ/16GB/1TB',\n",
       "        'FX550IK-DM018T (FX-9830P/8GB/1TB/Radeon', 'Aspire 5',\n",
       "        'Probook 430', 'Zenbook UX430UA', 'Spin 5',\n",
       "        'X541UV-DM1439T (i3-7100U/6GB/256GB/GeForce', 'Omen 15-ce007nv',\n",
       "        '15-bs017nv (i7-7500U/8GB/256GB/Radeon',\n",
       "        '15-bw000nv (E2-9000e/4GB/500GB/Radeon', 'Envy 13-ad009n',\n",
       "        'Pavilion 14-BK001nv', 'Ideapad 310-15ISK',\n",
       "        'UX430UQ-GV209R (i7-7500U/8GB/256GB/GeForce', 'GP62M 7REX',\n",
       "        'Thinkpad T470', 'VivoBook S15', 'ThinkPad Yoga', 'Probook 440',\n",
       "        'Spectre x360', 'Inspiron 7570',\n",
       "        'X705UV-BX074T (i3-6006U/4GB/1TB/GeForce', 'Spin 3', 'GS63VR 7RG',\n",
       "        'Probook 470', 'E402WA-GA007T (E2-6110/4GB/64GB/W10',\n",
       "        'Inspiron 5567', 'Aspire A515-51G-37JS',\n",
       "        '15-BS078nr (i7-7500U/8GB/1TB/W10)',\n",
       "        'V110-15IAP (N3350/4GB/1TB/No',\n",
       "        'FX753VD-GC086T (i5-7300HQ/8GB/1TB', 'Envy 13-AD007nv',\n",
       "        'ThinkPad E480', 'Satellite Pro', 'ZenBook UX430UA',\n",
       "        'EliteBook Folio', 'X541NA (N3350/4GB/1TB/FHD/W10)', 'GE72MVR 7RG',\n",
       "        'Aspire A315-51', 'Inspiron 5577', 'Inspiron 7567',\n",
       "        'V110-15IKB (i5-7200U/4GB/128GB/W10)', 'GE73VR 7RE',\n",
       "        'EliteBook 840', '15-BS103nv (i5-8250U/6GB/256GB/Radeon',\n",
       "        'Yoga 520-14IKB', 'ZenBook Flip', 'Inspiron 5579',\n",
       "        'X555BP-XX180T (A9-9420/4GB/1TB/Radeon', 'Aspire A517-51G',\n",
       "        'Aspire A315-31', 'GE63VR 7RE', 'MateBook X',\n",
       "        '17-bs001nv (i5-7200U/6GB/2TB/Radeon', 'GT80S 6QF-074US',\n",
       "        'V310-15IKB (i5-7200U/8GB/1TB', 'Yoga 920-13IKB', 'Mi Notebook',\n",
       "        'XPS 15', 'Swift 7', 'Thinkpad Yoga',\n",
       "        'K147 (N3350/4GB/32GB/FHD/W10)', 'IdeaPad 320-17IKBR', 'Blade Pro',\n",
       "        'Omen 17-W295', 'V110-15ISK (i5-6200U/4GB/128GB/W10)',\n",
       "        'Aspire E5-576G', 'Legion Y720-15IKB', 'Precision 7520',\n",
       "        'Aspire 7', 'ROG GL703VD-GC028T',\n",
       "        '15-bs018nq (i3-6006U/4GB/500GB/FHD/No', 'IdeaPad 320-17IKB',\n",
       "        'Latitude 5490', 'Portege Z30-C-16L', 'Alienware 17',\n",
       "        'Vivobook X541UV-DM1217T', 'K756UX-T4340T (i5-7200U/8GB/500GB',\n",
       "        'ZBook 15u', 'Pro P2540UA-XO0198T',\n",
       "        '15-rb013nv (E2-9000e/4GB/500GB/W10)', 'Vostro 5468', 'Aspire R7',\n",
       "        'X555QG-DM242T (A10-9620P/4GB/1TB', 'ROG G703VI-E5062T',\n",
       "        'Nitro AN515-51', 'VivoBook Pro',\n",
       "        'F756UX-T4201D (i7-7500U/8GB/128GB', 'Yoga 910-13IKB',\n",
       "        '15-bs015dx (i5-7200U/8GB/1TB/W10)', 'Rog G701VIK-BA060T',\n",
       "        'ROG G752VSK-GC493T', 'X505BP-BR019T (A9-9420/4GB/1TB/Radeon',\n",
       "        'Vostro 5370', '15-BW094nd (A6-9220/8GB/128GB/W10)',\n",
       "        'Envy 17-U275cl', 'GT73EVR 7RE', 'Yoga 720-15IKB', 'Vostro 3568',\n",
       "        'V330-15IKB (i7-8550U/8GB/256GB/FHD/W10)', 'ThinkPad X1',\n",
       "        'IdeaPad 320-17ISK', 'Ideapad 320-15IKBN',\n",
       "        'SP315-51 (i7-7500U/12GB/1TB/FHD/W10)', 'Thinkpad T570',\n",
       "        'Chromebook C910-C2ST',\n",
       "        'FX753VD-GC071T (i7-7700HQ/8GB/1TB/GeForce',\n",
       "        '17-BS037cl (i3-6006U/8GB/1TB/W10)',\n",
       "        'V330-15IKB (i5-8250U/8GB/256GB/FHD/W10)', 'Aspire A715-71G',\n",
       "        'Precision 7720', 'IdeaPad 310-15ABR', 'ZenBook UX530UQ-PRO',\n",
       "        'VivoBook S14', 'Rog GL702VS-GC095T',\n",
       "        'GL553VE-FY082T (i7-7700HQ/8GB/1TB', 'IdeaPad 320-15IAP',\n",
       "        'EliteBook x360', 'IdeaPad 720S-13IKB', 'GE63VR 7RF',\n",
       "        'ES1-523-84K7 (A8-7410/8GB/256GB/FHD/W10)', 'VivoBook Flip',\n",
       "        'ThinkPad 13', 'ProBook 640', 'TravelMate B', 'Elitebook 840',\n",
       "        'ZenBook UX410UA-GV183T', 'Aspire E5-575', 'Elitebook 820',\n",
       "        'GL72M 7REX', 'UX510UX-CN269T (i7-7500U/8GB/256GB',\n",
       "        'V310-15ISK (i3-6006U/4GB/1TB/FHD/W10)',\n",
       "        'FX553VD-FY647T (i7-7700HQ/8GB/256GB/GeForce', 'Elitebook 850',\n",
       "        'X541NA (N3350/4GB/1TB/Linux)', 'Inspiron 3552',\n",
       "        'IdeaPad 320-15ABR', 'Stream 14-AX001nv', 'GP72MVR 7RFX',\n",
       "        'Zbook 15', 'Tecra A50-C-21G', 'Latitude 7480',\n",
       "        'Zenbook UX410UA-GV027T', '15-AY023na (N3710/8GB/2TB/W10)',\n",
       "        'Elitebook 1040', 'IdeaPad 110-17ACL',\n",
       "        '15-bw003nv (A9-Series-9420/4GB/256GB/FHD/W10)', 'Yoga 11e',\n",
       "        'VivoBook E403NA', 'Omen 17-w212nv',\n",
       "        'V310-15ISK (i3-6006U/4GB/128GB/FHD/No', 'ROG Strix',\n",
       "        'IdeaPad 720S-14IKB', 'Zenbook Flip', 'Thinkpad X1',\n",
       "        'Ideapad 510S-13IKB', 'Precision 3510', 'Precision 5520',\n",
       "        'Rog GL753VD-GC042T', 'Rog GL753VE-GC070T', 'Leopard GP72M',\n",
       "        '15-BW004nv (A9-9420/4GB/256GB/Radeon', 'ThinkPad E580',\n",
       "        'ThinkPad L470', 'Precision M5520',\n",
       "        'FX753VD-GC461T (i7-7700HQ/16GB/1TB', 'GE73VR 7RF', 'Zenbook 3',\n",
       "        'Portege Z30-C-16P', 'Lenovo IdeaPad', 'ThinkPad P51',\n",
       "        'Thinkpad T470p', '15-BS028nv (i3-6006U/4GB/1TB/Radeon',\n",
       "        'Latitude 3380', 'EliteBook 1040', 'LapBook 12.3', 'ProBook 650',\n",
       "        'X542UQ-DM117 (i3-7100U/8GB/1TB/GeForce', 'Latitude 5480',\n",
       "        'Omen 17-w207nv', 'FlexBook Edge', 'Chromebook 3', 'Thinkpad 13',\n",
       "        'IdeaPad 320s-14IKB', 'Thinkpad P51',\n",
       "        '15-ra044nv (N3060/4GB/500GB/W10)', 'Pixelbook (Core',\n",
       "        'ThinkPad T470s', 'ThinkPad X270', 'Omen 15-AX205na',\n",
       "        'Aspire ES1-572', 'Precision 3520', 'GV62 7RD-1686NL',\n",
       "        '15-bs024nv (i5-7200U/8GB/128GB/W10)', 'ThinkPad T470',\n",
       "        'Inspiron 3168', '17-BS092ND (i3-6006U/8GB/256GB/W10)',\n",
       "        'Pro P2540UA-AB51', 'IdeaPad 510s-14IKB',\n",
       "        'X541NA-PD1003Y (N4200/4GB/500GB/W10)', 'Omen 17-an006nv',\n",
       "        'Thinkpad T460s', 'Latitude 7390', 'Latitude E5470',\n",
       "        'Portege X30-D-10J', 'Lapbook 15,6', 'ThinkPad E570',\n",
       "        'Thinkpad X270', 'Zenbook UX390UA', 'Thinkpad E570',\n",
       "        'Portege X30-D-10L', 'Rog G752VL-UH71T', 'Thinkpad X260',\n",
       "        'Ideapad 520-15IKBR', 'ThinkPad L570', 'VivoBook E201NA',\n",
       "        '15-BS026nv (i5-7200U/8GB/256GB/Radeon', 'IdeaPad 320-14IAP',\n",
       "        'Chromebook N23', 'ZenBook UX510UX-CN211T', 'Aspire A515-51G-59QF',\n",
       "        'Envy 13-AB002nv', 'Vostro 5568', 'VivoBook E12',\n",
       "        '15-bs190od (i5-8250U/4GB/1TB/W10)', 'ROG Zephyrus', 'Probook 450',\n",
       "        'FX753VE-GC155T (i7-7700HQ/16GB/1TB', 'Spectre X360',\n",
       "        'Latitude 5580', 'Zenbook UX510UW-FI095T', 'SmartBook Edge',\n",
       "        'Omen 15-ce006nv', 'Thinkpad E470', 'Envy 13-AB020nr',\n",
       "        'VivoBook X540YA-XX519T', 'ThinkPad E470',\n",
       "        'V310-15ISK (i5-6200U/4GB/1TB/FHD/No', 'ThinkPad T570',\n",
       "        '17-X047na (i3-6006U/8GB/1TB/W10)',\n",
       "        'A541NA-GO342 (N3350/4GB/500GB/Linux)', 'SmartBook 130',\n",
       "        '15-bw007nv (A10-9620P/6GB/128GB/Radeon', 'Spin SP111-31',\n",
       "        'V330-15IKB (i3-7130U/4GB/128GB/FHD/W10)', 'EliteBook 1030',\n",
       "        'Thinkpad P71', 'FX553VD-DM627T (i5-7300HQ/8GB/1TB',\n",
       "        'Lifebook A557', 'ZBook 17', '14-am079na (N3710/8GB/2TB/W10)',\n",
       "        '15-cd005nv (A9-9420/6GB/256GB/Radeon',\n",
       "        'V330-15IKB (i5-8250U/4GB/500GB/FHD/W10)', 'SmartBook 141',\n",
       "        'Tecra X40-D-10H', 'IdeaPad Y910-17ISK', 'GT73VR Titan',\n",
       "        'Chromebook 11', 'GT80S 6QE', 'Omen 17-AN010nv',\n",
       "        'Ideapad 320-15IKBR', 'TP501UA-CJ131T (i5-7200U/8GB/1TB/W10)',\n",
       "        'Inspiron 3179', 'Notebook Odyssey',\n",
       "        'V320-17ISK (i3-6006U/4GB/500GB/FHD/No', 'IdeaPad 110-15ISK',\n",
       "        'Latitude 5289', 'EliteBook 850', 'Aspire 1', 'Laptop MSI',\n",
       "        'GS63VR 7RF', 'Tecra Z50-C-144', 'IdeaPad 310-15IKB',\n",
       "        'Swift SF114-31-P5HY', 'Inspiron 7559',\n",
       "        'FX753VD-GC007T (i7-7700HQ/8GB/1TB', 'GT62VR 7RE',\n",
       "        'CB5-132T-C9KK (N3160/4GB/32GB/Chrome', 'LifeBook A557',\n",
       "        'SmartBook 140', 'Q304UA-BHI5T11 (i5-7200U/6GB/1TB/FHD/W10)',\n",
       "        'ZenBook 3', 'V330-15IKB (i5-8250U/4GB/256GB/FHD/W10)',\n",
       "        'Ideapad 320-15ISK', 'X541NA-GO414T (N3350/8GB/1TB/W10)',\n",
       "        'IdeaPad 100S-14IBR', '17-AK091ND (A9-9420/8GB/1TB/W10)',\n",
       "        'ROG GL553VE-FY022', 'Extensa EX2540', 'Portege Z30-C-16J',\n",
       "        'ROG G701VI', 'A715-71G-59DH (i5-7300HQ/8GB/1TB/GeForce',\n",
       "        'GL62M 7REX', 'Tecra A50-D-11M', 'IdeaPad Y700-15ISK',\n",
       "        'Latitude E7470', 'Ideapad 320-15IAP',\n",
       "        '15-ay047nv (i3-6006U/6GB/1TB/Radeon', 'GP72VR Leopard',\n",
       "        'Latitude 3580', '15-bs012nv (i7-7500U/8GB/1TB/Radeon',\n",
       "        'Tecra Z50-D-10E', 'V310-15ISK (i5-7200U/8GB/1TB',\n",
       "        'Yoga 720-13IKB', 'Pavilion X360', 'GP62 7RDX', 'Chromebook X360',\n",
       "        'Gram 15Z975', 'Aspire VX5-591G', 'GV62M 7RD',\n",
       "        'L502NA-GO052T (N3350/4GB/128GB/W10)', 'Alienware 15',\n",
       "        '17-bs000nv I3', 'Yoga 730', '17-Y002nv (A10-9600P/6GB/2TB/Radeon',\n",
       "        'V110-15ISK (3855U/4GB/500GB/W10)', 'Chromebook 14',\n",
       "        'IdeaPad 520s-14IKB', 'TravelMate B117-M', 'Chromebook Flip',\n",
       "        'Portege Z30T-C-133', '15-bs011nv (i7-7500U/4GB/500GB/Radeon',\n",
       "        'V310-15IKB (i5-7200U/4GB/1TB/FHD/W10)',\n",
       "        'V310-15ISK (i3-6006U/4GB/500GB/No', 'ThinkPad P51s',\n",
       "        'Thinkpad T460p', '17-ak002nv (A10-9620P/6GB/2TB/Radeon',\n",
       "        '110-15ACL (A6-7310/4GB/500GB/W10)', 'Smartbook 142',\n",
       "        'V310-15IKB (i5-7200U/4GB/1TB/No', 'Inspiron 5378',\n",
       "        '15-BW037na (A9-9420/4GB/1TB/Radeon', 'Predator 17',\n",
       "        '15-BW091ND (A9-9420/6GB/1TB', 'Extensa EX2540-58KR',\n",
       "        'V310-15IKB (i7-7500U/4GB/1TB/FHD/W10)', 'ZBook 15',\n",
       "        'Inspiron 7560', 'Tecra X40-D-10G', 'Flex 5', 'Thinkpad P51s',\n",
       "        'Notebook 9', 'Zbook 17', 'N23 (N3060/4GB/128GB/W10)',\n",
       "        'X550VX-XX015D (i5-6300HQ/4GB/1TB/GeForce', 'Thinkpad T460',\n",
       "        'Pro P2540UA-XO0192R', 'Yoga 900-13ISK',\n",
       "        '15-cb003na (i5-7300HQ/8GB/1TB', 'Latitude 7280',\n",
       "        'Zenbook UX330UA-AH5Q', 'TravelMate P238-M',\n",
       "        'X751NV-TY001 (N4200/4GB/1TB/GeForce', 'Tecra A40-C-1E5',\n",
       "        'EliteBook 820', 'Q524UQ-BHI7T15 (i7-7500U/12GB/2TB/GeForce',\n",
       "        'Thinkpad P50', 'Vivobook Max', 'Rog G752VS-BA171T',\n",
       "        'Tecra Z40-C-161', 'IdeaPad 110-15IBR', 'GS43VR 7RE',\n",
       "        'GL62M (i5-7300HQ/8GB/1TB', 'Predator G9-793',\n",
       "        'FX502VM-DM560T (i7-7700HQ/8GB/1TB', 'K146 (N3350/4GB/32GB/W10)',\n",
       "        'Yoga 510-15IKB', 'R417NA-RS01 (N3350/4GB/32GB/W10)',\n",
       "        'Pro P2540UA-XS51', 'Latitude 3180',\n",
       "        '15-ba043na (A12-9700P/8GB/2TB/W10)', 'Omen 17-an012dx',\n",
       "        'Thinkpad T470s', 'Blade Stealth', 'Latitude 3480',\n",
       "        'V110-15ISK (i3-6006U/4GB/500GB/W10)', 'Tecra X40-D-10Z',\n",
       "        'GL62M 7RD', 'Rog GL702VS-BA023T', 'N42-20 Chromebook',\n",
       "        'R558UA-DM966T (i5-7200U/8GB/128GB/FHD/W10)', 'Rog GL702VM-GC017T',\n",
       "        'ZenBook UX310UQ-GL026T', 'Rog GL502VM-DS74', 'Inspiron 5767',\n",
       "        'ThinkPad T470p', 'K556UR-DM621T (i7-7500U/8GB/256GB/GeForce',\n",
       "        'X541NA (N4200/4GB/1TB/W10)', 'Inspiron 5368', 'Portege X30-D-10X',\n",
       "        'Portégé Z30-C-188',\n",
       "        'TMX349-G2-M-50FS (i5-7200U/8GB/256GB/FHD/W10)', 'Tecra A50-D-11D',\n",
       "        'X541NA-GO121 (N4200/4GB/1TB/Linux)', 'Pavilion x360',\n",
       "        'VivoBook L402NA', 'IdeaPad 510-15ISK', 'Rog GL753VD-GC082T',\n",
       "        'Chromebook C731-C78G', 'Probook 640', 'Envy x360',\n",
       "        'GS73VR Stealth', 'Portege X30-D-10V',\n",
       "        'G701VO-IH74K (i7-6820HK/32GB/2x', 'Gram 15Z970',\n",
       "        'Chromebook CB5-571-C1DZ', 'Gram 14Z970', 'Elitebook Folio',\n",
       "        'IdeaPad 510-15IKB', 'GE72VR 6RF', 'Envy 13-AB077cl',\n",
       "        'Tecra Z50-C-140', 'Probook 650', 'Tecra Z40-C-12X',\n",
       "        'GP62M Leopard', 'Omen 17-W006na',\n",
       "        'X751SV-TY001T (N3710/4GB/1TB/GeForce', 'TravelMate P259-G2',\n",
       "        'Tecra A50-C-1ZV', 'Yoga 700-11ISK', 'IdeaPad Y700-15ACZ',\n",
       "        'Insprion 5767', 'ZBook Studio', 'Portege Z30-C-1CW',\n",
       "        'ProBook x360', 'Chromebook C738T-C2EJ', 'Portege Z30-C-16Z',\n",
       "        'Aspire F5-573G-510L', 'Portege X20W-D-10V', 'Tecra A40-C-1DF',\n",
       "        'ThinkPad T460', 'Q534UX-BHI7T19 (i7-7500U/16GB/2TB',\n",
       "        '15-bs053od (i7-7500U/6GB/1TB/W10)', 'Rog GL753VE-DS74',\n",
       "        'Inspiron 7579', 'Portege Z30-C-1CV', 'LifeBook A556',\n",
       "        'Tecra A40-C-1KF', '15-bs005nv (i3-6006U/4GB/1TB',\n",
       "        'V110-15IAP (N3350/4GB/128GB/No', 'ThinkPad T560',\n",
       "        'ZenBook UX310UA-FB485T', 'Spectre 13-V111dx', 'Aspire ES1-533',\n",
       "        'Rog GL553VE-DS74', 'Nitro 5', 'ENVY -', 'Portege Z30-C-16H',\n",
       "        'Portege A30-C-1CZ', 'ThinkPad P70', 'Tecra Z40-C-12Z',\n",
       "        'Inspiron 5568', 'Portégé Z30-C-16K', 'Spectre 13-V100nv',\n",
       "        'Latitude E5570', 'Tecra Z40-C-136', 'Yoga 500-15ISK',\n",
       "        'V142 (X5-Z8350/2GB/32GB/W10)', 'Tecra A50-C-218', 'Thinkpad L560',\n",
       "        'GT72S Dominator', 'IdeaPad Y900-17ISK', 'Chromebook C202SA',\n",
       "        'Noteb Pav', 'Inspiron 5578', '250 G5', 'Aspire ES1-523',\n",
       "        'Inspiron 7378', 'GT62VR 6RD', 'Rog G752VL-GC088D', 'GS63VR 6RF',\n",
       "        'ROG G701VO', 'Latitude 3570', 'IdeaPad 300-17ISK',\n",
       "        'Ideapad 700-15ISK', 'GT72VR Dominator',\n",
       "        'V110-15ISK (i5-6200U/4GB/500GB/W10)', 'Yoga 900S-12ISK',\n",
       "        'Chromebook 13', 'Rog GL702VM-GC354T', 'Aspire F5-573G',\n",
       "        'GS70 Stealth', 'G752VY-GC162T (i7-6700HQ/16GB/1TB',\n",
       "        'Latitude E5270', 'Chromebook 15', 'GE72 Apache',\n",
       "        '15-bw011nv (A6-9220/4GB/1TB/FHD/W10)', 'Rog GL552VW-CN470T',\n",
       "        'Vostro 3559', 'V110-15ISK (i3-6006U/4GB/128GB/W10)',\n",
       "        'Spectre Pro', 'Portege X30-D-10K', 'Rog GL752VW-T4308T',\n",
       "        'V131 (X5-Z8350/4GB/32GB/FHD/W10)', 'Omen -',\n",
       "        '15-bs078cl (i7-7500U/8GB/2TB/W10)', 'ThinkPad P40',\n",
       "        'L403NA-GA013TS (N3350/4GB/32GB/W10)', 'IdeaPad 500-15ISK',\n",
       "        'GP62M 7RDX', 'V110-15ISK (i3-6006U/4GB/1TB/No',\n",
       "        '15-BA015wm (E2-7110/4GB/500GB/W10)',\n",
       "        'B51-80 (i5-6200U/8GB/1TB/Radeon',\n",
       "        '15-bw002nv (A6-9220/4GB/256GB/Radeon', 'GP72M 7REX',\n",
       "        'ThinkPad T460s', 'B51-80 (i5-6200U/8GB/1008GB/Radeon',\n",
       "        'GS40 Phantom', 'Pavilion 15-cb003nv', 'IdeaPad 310-15ISK',\n",
       "        '250 G4', '320-15ISK (i3-6006U/4GB/1TB/GeForce',\n",
       "        'Stream 14-AX000nv', 'PL60 7RD',\n",
       "        'X553SA-XX021T (N3050/4GB/500GB/W10)',\n",
       "        'V110-15ISK (i5-6200U/4GB/500GB/No',\n",
       "        'UX410UA-GV097T (i3-7100U/4GB/256GB/FHD/W10)',\n",
       "        'B51-80 (i7-6500U/4GB/1008GB/FHD/W7)', 'GS60 Ghost',\n",
       "        'Pavilion 15-BC000nv', 'Rog GL552VW-DM201T', 'Chromebook Plus',\n",
       "        'Pavilion Power', 'V110-15ISK (i3-6006U/4GB/1TB/Radeon',\n",
       "        'Rog G752VY-GC229T', 'GS73VR 7RF',\n",
       "        'FX502VM-DM105T (i7-6700HQ/8GB/1TB/GeForce',\n",
       "        '15-bs025nv (i5-7200U/8GB/256GB/W10)', 'Aspire E5-774G',\n",
       "        'FX502VM-AS73 (i7-7700HQ/16GB/1TB',\n",
       "        'C740-C9QX (3205U/2GB/32GB/Chrome', 'E5 774G',\n",
       "        'SP714-51 (i7-7Y75/8GB/256GB/FHD/W10)', 'Thinkpad T560',\n",
       "        'GP62MVR 6RF', '15-bw009nv (A12-9720P/6GB/1TB/Radeon',\n",
       "        'Latitude E7270', 'X540SA-RBPDN09 (N3710/4GB/1TB/W10)',\n",
       "        'GL62M 7RDX', 'GE72VR Apache',\n",
       "        '15-bs023nv (i3-6006U/4GB/1TB/FHD/W10)', 'GL62 6QF',\n",
       "        'ZenBook UX310UA-WB71', 'Inspiron 7779', 'Rog GL553VE-FY052T',\n",
       "        'Rog GL502VS', 'V510-15IKB (i5-7200U/8GB/256GB/FHD/No',\n",
       "        'ThinkPad L460', 'X541NA-GO020T (N3350/4GB/1TB/W10)',\n",
       "        'Rog G752VT-GC073T', 'B51-80 (i7-6500U/8GB/1008GB/Radeon',\n",
       "        'GE62 Apache', 'Yoga 500-14IBD', 'ZenBook UX305CA-UBM1',\n",
       "        'Aspire ES1-531', 'Pavilion 15-AW003nv', 'Stream 11-Y000na',\n",
       "        'X556UJ-XO044T (i7-6500U/4GB/500GB/GeForce', 'Yoga 500-14ISK',\n",
       "        '15-AC110nv (i7-6500U/6GB/1TB/Radeon',\n",
       "        'X553SA-XX031T (N3050/4GB/500GB/W10)'], dtype=object),\n",
       " 618)"
      ]
     },
     "execution_count": 9,
     "metadata": {},
     "output_type": "execute_result"
    }
   ],
   "source": [
    "data['Product'].unique(), len(data['Product'].unique())"
   ]
  },
  {
   "cell_type": "code",
   "execution_count": 10,
   "metadata": {},
   "outputs": [
    {
     "data": {
      "text/plain": [
       "(array(['Ultrabook', 'Notebook', 'Netbook', 'Gaming', '2 in 1 Convertible',\n",
       "        'Workstation'], dtype=object),\n",
       " 6)"
      ]
     },
     "execution_count": 10,
     "metadata": {},
     "output_type": "execute_result"
    }
   ],
   "source": [
    "data['TypeName'].unique(), len(data['TypeName'].unique())"
   ]
  },
  {
   "cell_type": "code",
   "execution_count": 11,
   "metadata": {},
   "outputs": [
    {
     "data": {
      "text/plain": [
       "(array(['IPS Panel Retina Display 2560x1600', '1440x900',\n",
       "        'Full HD 1920x1080', 'IPS Panel Retina Display 2880x1800',\n",
       "        '1366x768', 'IPS Panel Full HD 1920x1080',\n",
       "        'IPS Panel Retina Display 2304x1440',\n",
       "        'IPS Panel Full HD / Touchscreen 1920x1080',\n",
       "        'Full HD / Touchscreen 1920x1080',\n",
       "        'Touchscreen / Quad HD+ 3200x1800',\n",
       "        'IPS Panel Touchscreen 1920x1200', 'Touchscreen 2256x1504',\n",
       "        'Quad HD+ / Touchscreen 3200x1800', 'IPS Panel 1366x768',\n",
       "        'IPS Panel 4K Ultra HD / Touchscreen 3840x2160',\n",
       "        'IPS Panel Full HD 2160x1440',\n",
       "        '4K Ultra HD / Touchscreen 3840x2160', 'Touchscreen 2560x1440',\n",
       "        '1600x900', 'IPS Panel 4K Ultra HD 3840x2160',\n",
       "        '4K Ultra HD 3840x2160', 'Touchscreen 1366x768',\n",
       "        'IPS Panel Full HD 1366x768', 'IPS Panel 2560x1440',\n",
       "        'IPS Panel Full HD 2560x1440',\n",
       "        'IPS Panel Retina Display 2736x1824', 'Touchscreen 2400x1600',\n",
       "        '2560x1440', 'IPS Panel Quad HD+ 2560x1440',\n",
       "        'IPS Panel Quad HD+ 3200x1800',\n",
       "        'IPS Panel Quad HD+ / Touchscreen 3200x1800',\n",
       "        'IPS Panel Touchscreen 1366x768', '1920x1080',\n",
       "        'IPS Panel Full HD 1920x1200',\n",
       "        'IPS Panel Touchscreen / 4K Ultra HD 3840x2160',\n",
       "        'IPS Panel Touchscreen 2560x1440',\n",
       "        'Touchscreen / Full HD 1920x1080', 'Quad HD+ 3200x1800',\n",
       "        'Touchscreen / 4K Ultra HD 3840x2160',\n",
       "        'IPS Panel Touchscreen 2400x1600'], dtype=object),\n",
       " 40)"
      ]
     },
     "execution_count": 11,
     "metadata": {},
     "output_type": "execute_result"
    }
   ],
   "source": [
    "data['ScreenResolution'].unique(), len(data['ScreenResolution'].unique())"
   ]
  },
  {
   "cell_type": "code",
   "execution_count": 12,
   "metadata": {},
   "outputs": [
    {
     "data": {
      "text/plain": [
       "(array(['Intel Core i5 2.3GHz', 'Intel Core i5 1.8GHz',\n",
       "        'Intel Core i5 7200U 2.5GHz', 'Intel Core i7 2.7GHz',\n",
       "        'Intel Core i5 3.1GHz', 'AMD A9-Series 9420 3GHz',\n",
       "        'Intel Core i7 2.2GHz', 'Intel Core i7 8550U 1.8GHz',\n",
       "        'Intel Core i5 8250U 1.6GHz', 'Intel Core i3 6006U 2GHz',\n",
       "        'Intel Core i7 2.8GHz', 'Intel Core M m3 1.2GHz',\n",
       "        'Intel Core i7 7500U 2.7GHz', 'Intel Core i7 2.9GHz',\n",
       "        'Intel Core i3 7100U 2.4GHz', 'Intel Atom x5-Z8350 1.44GHz',\n",
       "        'Intel Core i5 7300HQ 2.5GHz', 'AMD E-Series E2-9000e 1.5GHz',\n",
       "        'Intel Core i5 1.6GHz', 'Intel Core i7 8650U 1.9GHz',\n",
       "        'Intel Atom x5-Z8300 1.44GHz', 'AMD E-Series E2-6110 1.5GHz',\n",
       "        'AMD A6-Series 9220 2.5GHz',\n",
       "        'Intel Celeron Dual Core N3350 1.1GHz',\n",
       "        'Intel Core i3 7130U 2.7GHz', 'Intel Core i7 7700HQ 2.8GHz',\n",
       "        'Intel Core i5 2.0GHz', 'AMD Ryzen 1700 3GHz',\n",
       "        'Intel Pentium Quad Core N4200 1.1GHz',\n",
       "        'Intel Atom x5-Z8550 1.44GHz',\n",
       "        'Intel Celeron Dual Core N3060 1.6GHz', 'Intel Core i5 1.3GHz',\n",
       "        'AMD FX 9830P 3GHz', 'Intel Core i7 7560U 2.4GHz',\n",
       "        'AMD E-Series 6110 1.5GHz', 'Intel Core i5 6200U 2.3GHz',\n",
       "        'Intel Core M 6Y75 1.2GHz', 'Intel Core i5 7500U 2.7GHz',\n",
       "        'Intel Core i3 6006U 2.2GHz', 'AMD A6-Series 9220 2.9GHz',\n",
       "        'Intel Core i7 6920HQ 2.9GHz', 'Intel Core i5 7Y54 1.2GHz',\n",
       "        'Intel Core i7 7820HK 2.9GHz', 'Intel Xeon E3-1505M V6 3GHz',\n",
       "        'Intel Core i7 6500U 2.5GHz', 'AMD E-Series 9000e 1.5GHz',\n",
       "        'AMD A10-Series A10-9620P 2.5GHz', 'AMD A6-Series A6-9220 2.5GHz',\n",
       "        'Intel Core i5 2.9GHz', 'Intel Core i7 6600U 2.6GHz',\n",
       "        'Intel Core i3 6006U 2.0GHz',\n",
       "        'Intel Celeron Dual Core 3205U 1.5GHz',\n",
       "        'Intel Core i7 7820HQ 2.9GHz', 'AMD A10-Series 9600P 2.4GHz',\n",
       "        'Intel Core i7 7600U 2.8GHz', 'AMD A8-Series 7410 2.2GHz',\n",
       "        'Intel Celeron Dual Core 3855U 1.6GHz',\n",
       "        'Intel Pentium Quad Core N3710 1.6GHz',\n",
       "        'AMD A12-Series 9720P 2.7GHz', 'Intel Core i5 7300U 2.6GHz',\n",
       "        'AMD A12-Series 9720P 3.6GHz',\n",
       "        'Intel Celeron Quad Core N3450 1.1GHz',\n",
       "        'Intel Celeron Dual Core N3060 1.60GHz',\n",
       "        'Intel Core i5 6440HQ 2.6GHz', 'Intel Core i7 6820HQ 2.7GHz',\n",
       "        'AMD Ryzen 1600 3.2GHz', 'Intel Core i7 7Y75 1.3GHz',\n",
       "        'Intel Core i5 7440HQ 2.8GHz', 'Intel Core i7 7660U 2.5GHz',\n",
       "        'Intel Core i7 7700HQ 2.7GHz', 'Intel Core M m3-7Y30 2.2GHz',\n",
       "        'Intel Core i5 7Y57 1.2GHz', 'Intel Core i7 6700HQ 2.6GHz',\n",
       "        'Intel Core i3 6100U 2.3GHz', 'AMD A10-Series 9620P 2.5GHz',\n",
       "        'AMD E-Series 7110 1.8GHz', 'Intel Celeron Dual Core N3350 2.0GHz',\n",
       "        'AMD A9-Series A9-9420 3GHz', 'Intel Core i7 6820HK 2.7GHz',\n",
       "        'Intel Core M 7Y30 1.0GHz', 'Intel Xeon E3-1535M v6 3.1GHz',\n",
       "        'Intel Celeron Quad Core N3160 1.6GHz',\n",
       "        'Intel Core i5 6300U 2.4GHz', 'Intel Core i3 6100U 2.1GHz',\n",
       "        'AMD E-Series E2-9000 2.2GHz',\n",
       "        'Intel Celeron Dual Core N3050 1.6GHz',\n",
       "        'Intel Core M M3-6Y30 0.9GHz', 'AMD A9-Series 9420 2.9GHz',\n",
       "        'Intel Core i5 6300HQ 2.3GHz', 'AMD A6-Series 7310 2GHz',\n",
       "        'Intel Atom Z8350 1.92GHz', 'Intel Xeon E3-1535M v5 2.9GHz',\n",
       "        'Intel Core i5 6260U 1.8GHz',\n",
       "        'Intel Pentium Dual Core N4200 1.1GHz',\n",
       "        'Intel Celeron Quad Core N3710 1.6GHz', 'Intel Core M 1.2GHz',\n",
       "        'AMD A12-Series 9700P 2.5GHz', 'Intel Core i7 7500U 2.5GHz',\n",
       "        'Intel Pentium Dual Core 4405U 2.1GHz',\n",
       "        'AMD A4-Series 7210 2.2GHz', 'Intel Core i7 6560U 2.2GHz',\n",
       "        'Intel Core M m7-6Y75 1.2GHz', 'AMD FX 8800P 2.1GHz',\n",
       "        'Intel Core M M7-6Y75 1.2GHz', 'Intel Core i5 7200U 2.50GHz',\n",
       "        'Intel Core i5 7200U 2.70GHz', 'Intel Atom X5-Z8350 1.44GHz',\n",
       "        'Intel Core i5 7200U 2.7GHz', 'Intel Core M 1.1GHz',\n",
       "        'Intel Pentium Dual Core 4405Y 1.5GHz',\n",
       "        'Intel Pentium Quad Core N3700 1.6GHz', 'Intel Core M 6Y54 1.1GHz',\n",
       "        'Intel Core i7 6500U 2.50GHz',\n",
       "        'Intel Celeron Dual Core N3350 2GHz',\n",
       "        'Samsung Cortex A72&A53 2.0GHz', 'AMD E-Series 9000 2.2GHz',\n",
       "        'Intel Core M 6Y30 0.9GHz', 'AMD A9-Series 9410 2.9GHz'],\n",
       "       dtype=object),\n",
       " 118)"
      ]
     },
     "execution_count": 12,
     "metadata": {},
     "output_type": "execute_result"
    }
   ],
   "source": [
    "data['Cpu'].unique(), len(data['Cpu'].unique())"
   ]
  },
  {
   "cell_type": "code",
   "execution_count": 13,
   "metadata": {},
   "outputs": [
    {
     "data": {
      "text/plain": [
       "(array(['8GB', '16GB', '4GB', '2GB', '12GB', '6GB', '32GB', '24GB', '64GB'],\n",
       "       dtype=object),\n",
       " 9)"
      ]
     },
     "execution_count": 13,
     "metadata": {},
     "output_type": "execute_result"
    }
   ],
   "source": [
    "data['Ram'].unique(), len(data['Ram'].unique())"
   ]
  },
  {
   "cell_type": "code",
   "execution_count": 14,
   "metadata": {},
   "outputs": [
    {
     "data": {
      "text/plain": [
       "(array(['128GB SSD', '128GB Flash Storage', '256GB SSD', '512GB SSD',\n",
       "        '500GB HDD', '256GB Flash Storage', '1TB HDD',\n",
       "        '32GB Flash Storage', '128GB SSD +  1TB HDD',\n",
       "        '256GB SSD +  256GB SSD', '64GB Flash Storage',\n",
       "        '256GB SSD +  1TB HDD', '256GB SSD +  2TB HDD', '32GB SSD',\n",
       "        '2TB HDD', '64GB SSD', '1.0TB Hybrid', '512GB SSD +  1TB HDD',\n",
       "        '1TB SSD', '256GB SSD +  500GB HDD', '128GB SSD +  2TB HDD',\n",
       "        '512GB SSD +  512GB SSD', '16GB SSD', '16GB Flash Storage',\n",
       "        '512GB SSD +  256GB SSD', '512GB SSD +  2TB HDD',\n",
       "        '64GB Flash Storage +  1TB HDD', '180GB SSD', '1TB HDD +  1TB HDD',\n",
       "        '32GB HDD', '1TB SSD +  1TB HDD', '512GB Flash Storage',\n",
       "        '128GB HDD', '240GB SSD', '8GB SSD', '508GB Hybrid', '1.0TB HDD',\n",
       "        '512GB SSD +  1.0TB Hybrid', '256GB SSD +  1.0TB Hybrid'],\n",
       "       dtype=object),\n",
       " 39)"
      ]
     },
     "execution_count": 14,
     "metadata": {},
     "output_type": "execute_result"
    }
   ],
   "source": [
    "data['Memory'].unique(), len(data['Memory'].unique())"
   ]
  },
  {
   "cell_type": "code",
   "execution_count": 15,
   "metadata": {},
   "outputs": [
    {
     "data": {
      "text/plain": [
       "(array(['Intel Iris Plus Graphics 640', 'Intel HD Graphics 6000',\n",
       "        'Intel HD Graphics 620', 'AMD Radeon Pro 455',\n",
       "        'Intel Iris Plus Graphics 650', 'AMD Radeon R5',\n",
       "        'Intel Iris Pro Graphics', 'Nvidia GeForce MX150',\n",
       "        'Intel UHD Graphics 620', 'Intel HD Graphics 520',\n",
       "        'AMD Radeon Pro 555', 'AMD Radeon R5 M430',\n",
       "        'Intel HD Graphics 615', 'AMD Radeon Pro 560',\n",
       "        'Nvidia GeForce 940MX', 'Intel HD Graphics 400',\n",
       "        'Nvidia GeForce GTX 1050', 'AMD Radeon R2', 'AMD Radeon 530',\n",
       "        'Nvidia GeForce 930MX', 'Intel HD Graphics',\n",
       "        'Intel HD Graphics 500', 'Nvidia GeForce 930MX ',\n",
       "        'Nvidia GeForce GTX 1060', 'Nvidia GeForce 150MX',\n",
       "        'Intel Iris Graphics 540', 'AMD Radeon RX 580',\n",
       "        'Nvidia GeForce 920MX', 'AMD Radeon R4 Graphics', 'AMD Radeon 520',\n",
       "        'Nvidia GeForce GTX 1070', 'Nvidia GeForce GTX 1050 Ti',\n",
       "        'Nvidia GeForce MX130', 'AMD R4 Graphics',\n",
       "        'Nvidia GeForce GTX 940MX', 'AMD Radeon RX 560',\n",
       "        'Nvidia GeForce 920M', 'AMD Radeon R7 M445', 'AMD Radeon RX 550',\n",
       "        'Nvidia GeForce GTX 1050M', 'Intel HD Graphics 515',\n",
       "        'AMD Radeon R5 M420', 'Intel HD Graphics 505',\n",
       "        'Nvidia GTX 980 SLI', 'AMD R17M-M1-70', 'Nvidia GeForce GTX 1080',\n",
       "        'Nvidia Quadro M1200', 'Nvidia GeForce 920MX ',\n",
       "        'Nvidia GeForce GTX 950M', 'AMD FirePro W4190M ',\n",
       "        'Nvidia GeForce GTX 980M', 'Intel Iris Graphics 550',\n",
       "        'Nvidia GeForce 930M', 'Intel HD Graphics 630',\n",
       "        'AMD Radeon R5 430', 'Nvidia GeForce GTX 940M',\n",
       "        'Intel HD Graphics 510', 'Intel HD Graphics 405',\n",
       "        'AMD Radeon RX 540', 'Nvidia GeForce GT 940MX',\n",
       "        'AMD FirePro W5130M', 'Nvidia Quadro M2200M', 'AMD Radeon R4',\n",
       "        'Nvidia Quadro M620', 'AMD Radeon R7 M460',\n",
       "        'Intel HD Graphics 530', 'Nvidia GeForce GTX 965M',\n",
       "        'Nvidia GeForce GTX1080', 'Nvidia GeForce GTX1050 Ti',\n",
       "        'Nvidia GeForce GTX 960M', 'AMD Radeon R2 Graphics',\n",
       "        'Nvidia Quadro M620M', 'Nvidia GeForce GTX 970M',\n",
       "        'Nvidia GeForce GTX 960<U+039C>', 'Intel Graphics 620',\n",
       "        'Nvidia GeForce GTX 960', 'AMD Radeon R5 520',\n",
       "        'AMD Radeon R7 M440', 'AMD Radeon R7', 'Nvidia Quadro M520M',\n",
       "        'Nvidia Quadro M2200', 'Nvidia Quadro M2000M',\n",
       "        'Intel HD Graphics 540', 'Nvidia Quadro M1000M', 'AMD Radeon 540',\n",
       "        'Nvidia GeForce GTX 1070M', 'Nvidia GeForce GTX1060',\n",
       "        'Intel HD Graphics 5300', 'AMD Radeon R5 M420X',\n",
       "        'AMD Radeon R7 Graphics', 'Nvidia GeForce 920',\n",
       "        'Nvidia GeForce 940M', 'Nvidia GeForce GTX 930MX',\n",
       "        'AMD Radeon R7 M465', 'AMD Radeon R3', 'Nvidia GeForce GTX 1050Ti',\n",
       "        'AMD Radeon R7 M365X', 'AMD Radeon R9 M385',\n",
       "        'Intel HD Graphics 620 ', 'Nvidia Quadro 3000M',\n",
       "        'Nvidia GeForce GTX 980 ', 'AMD Radeon R5 M330',\n",
       "        'AMD FirePro W4190M', 'AMD FirePro W6150M', 'AMD Radeon R5 M315',\n",
       "        'Nvidia Quadro M500M', 'AMD Radeon R7 M360',\n",
       "        'Nvidia Quadro M3000M', 'Nvidia GeForce 960M', 'ARM Mali T860 MP4'],\n",
       "       dtype=object),\n",
       " 110)"
      ]
     },
     "execution_count": 15,
     "metadata": {},
     "output_type": "execute_result"
    }
   ],
   "source": [
    "data['Gpu'].unique(), len(data['Gpu'].unique()) "
   ]
  },
  {
   "cell_type": "code",
   "execution_count": 16,
   "metadata": {},
   "outputs": [
    {
     "data": {
      "text/plain": [
       "(array(['macOS', 'No OS', 'Windows 10', 'Mac OS X', 'Linux', 'Android',\n",
       "        'Windows 10 S', 'Chrome OS', 'Windows 7'], dtype=object),\n",
       " 9)"
      ]
     },
     "execution_count": 16,
     "metadata": {},
     "output_type": "execute_result"
    }
   ],
   "source": [
    "data['OpSys'].unique(), len(data['OpSys'].unique())"
   ]
  },
  {
   "cell_type": "code",
   "execution_count": 17,
   "metadata": {},
   "outputs": [
    {
     "data": {
      "text/plain": [
       "(array(['1.37kg', '1.34kg', '1.86kg', '1.83kg', '2.1kg', '2.04kg', '1.3kg',\n",
       "        '1.6kg', '2.2kg', '0.92kg', '1.22kg', '0.98kg', '2.5kg', '1.62kg',\n",
       "        '1.91kg', '2.3kg', '1.35kg', '1.88kg', '1.89kg', '1.65kg',\n",
       "        '2.71kg', '1.2kg', '1.44kg', '2.8kg', '2kg', '2.65kg', '2.77kg',\n",
       "        '3.2kg', '0.69kg', '1.49kg', '2.4kg', '2.13kg', '2.43kg', '1.7kg',\n",
       "        '1.4kg', '1.8kg', '1.9kg', '3kg', '1.252kg', '2.7kg', '2.02kg',\n",
       "        '1.63kg', '1.96kg', '1.21kg', '2.45kg', '1.25kg', '1.5kg',\n",
       "        '2.62kg', '1.38kg', '1.58kg', '1.85kg', '1.23kg', '1.26kg',\n",
       "        '2.16kg', '2.36kg', '2.05kg', '1.32kg', '1.75kg', '0.97kg',\n",
       "        '2.9kg', '2.56kg', '1.48kg', '1.74kg', '1.1kg', '1.56kg', '2.03kg',\n",
       "        '1.05kg', '4.4kg', '1.90kg', '1.29kg', '2.0kg', '1.95kg', '2.06kg',\n",
       "        '1.12kg', '1.42kg', '3.49kg', '3.35kg', '2.23kg', '4.42kg',\n",
       "        '2.69kg', '2.37kg', '4.7kg', '3.6kg', '2.08kg', '4.3kg', '1.68kg',\n",
       "        '1.41kg', '4.14kg', '2.18kg', '2.24kg', '2.67kg', '2.14kg',\n",
       "        '1.36kg', '2.25kg', '2.15kg', '2.19kg', '2.54kg', '3.42kg',\n",
       "        '1.28kg', '2.33kg', '1.45kg', '2.79kg', '1.84kg', '2.6kg',\n",
       "        '2.26kg', '3.25kg', '1.59kg', '1.13kg', '1.78kg', '1.10kg',\n",
       "        '1.15kg', '1.27kg', '1.43kg', '2.31kg', '1.16kg', '1.64kg',\n",
       "        '2.17kg', '1.47kg', '3.78kg', '1.79kg', '0.91kg', '1.99kg',\n",
       "        '4.33kg', '1.93kg', '1.87kg', '2.63kg', '3.4kg', '3.14kg',\n",
       "        '1.94kg', '1.24kg', '4.6kg', '4.5kg', '2.73kg', '1.39kg', '2.29kg',\n",
       "        '2.59kg', '2.94kg', '1.14kg', '3.8kg', '3.31kg', '1.09kg',\n",
       "        '3.21kg', '1.19kg', '1.98kg', '1.17kg', '4.36kg', '1.71kg',\n",
       "        '2.32kg', '4.2kg', '1.55kg', '0.81kg', '1.18kg', '2.72kg',\n",
       "        '1.31kg', '0.920kg', '3.74kg', '1.76kg', '1.54kg', '2.83kg',\n",
       "        '2.07kg', '2.38kg', '3.58kg', '1.08kg', '2.20kg', '2.75kg',\n",
       "        '1.70kg', '2.99kg', '1.11kg', '2.09kg', '4kg', '3.0kg', '0.99kg',\n",
       "        '3.52kg', '2.591kg', '2.21kg', '3.3kg', '2.191kg', '2.34kg',\n",
       "        '4.0kg'], dtype=object),\n",
       " 179)"
      ]
     },
     "execution_count": 17,
     "metadata": {},
     "output_type": "execute_result"
    }
   ],
   "source": [
    "data['Weight'].unique(), len(data['Weight'].unique())"
   ]
  },
  {
   "cell_type": "markdown",
   "metadata": {},
   "source": [
    "**По поводу преобразования столбцов**"
   ]
  },
  {
   "cell_type": "markdown",
   "metadata": {},
   "source": [
    "Company - просто делаем LabelEncoding, количество значений позволяет это сделать\n",
    "\n",
    "Product - удаляем, так как слишком много уникальных значений, число которых уменьшить не представляется возможныым\n",
    "\n",
    "TypeName - выполняет LabelEncoding\n",
    "\n",
    "ScreenResolution - удалим все приписки, кроме цифр, получится, например 1440800, потом можно будет такое значение скалировать\n",
    "\n",
    "Cpu - можно преобразовать к 3 столбцам, в первом будет наименование компании, а во втором модель, в третьем - серия\n",
    "\n",
    "Ram - просто убираем приставку GB, а числа оставляем\n",
    "\n",
    "Memory - следуем рекомендациям из задания\n",
    "\n",
    "Gpu - всё аналогично cpu\n",
    "\n",
    "OpSys - делаем LabelEncoding\n",
    "\n",
    "Weight - убираем приставку kg, а чиселки оставляем"
   ]
  },
  {
   "cell_type": "markdown",
   "metadata": {},
   "source": [
    "# Обработка столбцов"
   ]
  },
  {
   "cell_type": "markdown",
   "metadata": {},
   "source": [
    "Необходимые библиотеки"
   ]
  },
  {
   "cell_type": "code",
   "execution_count": 18,
   "metadata": {},
   "outputs": [],
   "source": [
    "from sklearn.preprocessing import LabelEncoder\n",
    "import re"
   ]
  },
  {
   "cell_type": "markdown",
   "metadata": {},
   "source": [
    "Функция обработки ScreenResolution"
   ]
  },
  {
   "cell_type": "code",
   "execution_count": 19,
   "metadata": {},
   "outputs": [],
   "source": [
    "def resolution_enc(rslt: str) -> int:\n",
    "    res = ''\n",
    "    for symb in rslt:\n",
    "        if symb in '0123456789':\n",
    "            res += symb\n",
    "\n",
    "    return int(res)"
   ]
  },
  {
   "cell_type": "markdown",
   "metadata": {},
   "source": [
    "Функция удаления частоты из Cpu"
   ]
  },
  {
   "cell_type": "code",
   "execution_count": 20,
   "metadata": {},
   "outputs": [],
   "source": [
    "def del_cpu_freq(cpu: str) -> str:\n",
    "    return cpu[:cpu.rfind(' ')]"
   ]
  },
  {
   "cell_type": "markdown",
   "metadata": {},
   "source": [
    "Функция получения марки процессора"
   ]
  },
  {
   "cell_type": "code",
   "execution_count": 21,
   "metadata": {},
   "outputs": [],
   "source": [
    "def get_cpu_cmp(cpu: str) -> str:\n",
    "    if re.match(r'Intel Core', cpu):\n",
    "        return 'Intel Core'\n",
    "    if re.match(r'Intel', cpu):\n",
    "        return 'Intel'\n",
    "    if re.match(r'AMD', cpu):\n",
    "        return 'AMD'\n",
    "    if re.match(r'Samsung', cpu):\n",
    "        return 'Samsung'"
   ]
  },
  {
   "cell_type": "markdown",
   "metadata": {},
   "source": [
    "Функция удаления марки процессора"
   ]
  },
  {
   "cell_type": "code",
   "execution_count": 22,
   "metadata": {},
   "outputs": [],
   "source": [
    "def del_cpu_cmp(cpu: str) -> str:\n",
    "    if re.match(r'Intel Core', cpu):\n",
    "        return cpu[11:]\n",
    "    if re.match(r'Intel', cpu):\n",
    "        return cpu[6:]\n",
    "    if re.match(r'AMD', cpu):\n",
    "        return cpu[4:]\n",
    "    if re.match(r'Samsung', cpu):\n",
    "        return cpu[8:]"
   ]
  },
  {
   "cell_type": "markdown",
   "metadata": {},
   "source": [
    "Функция получения модели процессора"
   ]
  },
  {
   "cell_type": "code",
   "execution_count": 23,
   "metadata": {},
   "outputs": [],
   "source": [
    "def get_cpu_model(cpu: str) -> str:\n",
    "    model = ''\n",
    "    for symb in cpu:\n",
    "        if symb != ' ':\n",
    "            model += symb\n",
    "        else:\n",
    "            break\n",
    "    return model"
   ]
  },
  {
   "cell_type": "markdown",
   "metadata": {},
   "source": [
    "Функция удаления модели процессора"
   ]
  },
  {
   "cell_type": "code",
   "execution_count": 24,
   "metadata": {},
   "outputs": [],
   "source": [
    "def del_cpu_model(cpu: str) -> str:\n",
    "    if cpu.find(' ') != -1:\n",
    "        return cpu[cpu.find(' ') + 1:]\n",
    "    else:\n",
    "        return '' "
   ]
  },
  {
   "cell_type": "markdown",
   "metadata": {},
   "source": [
    "Функция обработки Ram"
   ]
  },
  {
   "cell_type": "code",
   "execution_count": 25,
   "metadata": {},
   "outputs": [],
   "source": [
    "def ram_enc(ram: str) -> int:\n",
    "    return int(ram[:-2])"
   ]
  },
  {
   "cell_type": "markdown",
   "metadata": {},
   "source": [
    "Функция обработки Weight"
   ]
  },
  {
   "cell_type": "code",
   "execution_count": 26,
   "metadata": {},
   "outputs": [],
   "source": [
    "def weight_enc(weight: str) -> int:\n",
    "    return float(weight[:-2])"
   ]
  },
  {
   "cell_type": "markdown",
   "metadata": {},
   "source": [
    "Функция получения марки видеокарты"
   ]
  },
  {
   "cell_type": "code",
   "execution_count": 27,
   "metadata": {},
   "outputs": [],
   "source": [
    "def get_gpu_cmp(gpu: str) -> str:\n",
    "    if re.match(r'Nvidia', gpu):\n",
    "        return 'Nvidia'\n",
    "    if re.match(r'Intel', gpu):\n",
    "        return 'Intel'\n",
    "    if re.match(r'AMD', gpu):\n",
    "        return 'AMD'\n",
    "    if re.match(r'ARM', gpu):\n",
    "        return 'ARM'"
   ]
  },
  {
   "cell_type": "markdown",
   "metadata": {},
   "source": [
    "Функция удаления марки видеокарты"
   ]
  },
  {
   "cell_type": "code",
   "execution_count": 28,
   "metadata": {},
   "outputs": [],
   "source": [
    "def del_gpu_cmp(gpu: str) -> str:\n",
    "    if re.match(r'Nvidia', gpu):\n",
    "        return gpu[7:]\n",
    "    if re.match(r'Intel', gpu):\n",
    "        return gpu[6:]\n",
    "    if re.match(r'AMD', gpu):\n",
    "        return gpu[4:]\n",
    "    if re.match(r'ARM', gpu):\n",
    "        return gpu[4:]"
   ]
  },
  {
   "cell_type": "markdown",
   "metadata": {},
   "source": [
    "Функция получения серии видеокарты"
   ]
  },
  {
   "cell_type": "code",
   "execution_count": 29,
   "metadata": {},
   "outputs": [],
   "source": [
    "def get_gpu_series(gpu: str) -> str:\n",
    "    return gpu[gpu.rfind(' ') + 1:]"
   ]
  },
  {
   "cell_type": "markdown",
   "metadata": {},
   "source": [
    "Функция удаления серии видеокарты"
   ]
  },
  {
   "cell_type": "code",
   "execution_count": 30,
   "metadata": {},
   "outputs": [],
   "source": [
    "def del_gpu_series(gpu: str) -> str:\n",
    "    return gpu[:gpu.rfind(' ')]"
   ]
  },
  {
   "cell_type": "code",
   "execution_count": 31,
   "metadata": {},
   "outputs": [],
   "source": [
    "def get_memory_type(mem: str) -> str:\n",
    "    if re.match(r'HDD', mem):\n",
    "        return 'HDD'\n",
    "    if re.match(r'SSD', mem):\n",
    "        return 'SSD'\n",
    "    if re.match(r'Hybrid', mem):\n",
    "        return 'Hybrid'\n",
    "    if re.match(r'Flash Storage', mem):\n",
    "        return 'Flash Storage'"
   ]
  },
  {
   "cell_type": "markdown",
   "metadata": {},
   "source": [
    "Функция обработки столбца памяти"
   ]
  },
  {
   "cell_type": "code",
   "execution_count": 32,
   "metadata": {},
   "outputs": [],
   "source": [
    "def hdd_type(memory: str) -> int:\n",
    "    memory = memory.replace('   ', ' ')#убираем лишние пробелы\n",
    "    memory = memory.replace('  ', ' ')\n",
    "    volume = 0 #переменная для итогового значения\n",
    "    while len(memory) > 0:\n",
    "        val = memory[:memory.find(' ')] # получаем запись из строки мемори до первого пробела (получаем гб)\n",
    "        memory = memory[memory.find(' ') + 1:] # до первого пробела удаляем остальное оставляем\n",
    "        #затем нужно добраться до типа\n",
    "        type_ = ''\n",
    "        if memory.find(' ') != -1:\n",
    "            type_ = memory[:memory.find(' ')]\n",
    "        else:\n",
    "            type_ = memory[:]\n",
    "\n",
    "        if type_ == 'HDD':\n",
    "            if val[-2:] == 'GB':\n",
    "                volume += int(val[:-2])\n",
    "            elif val[-2:] == 'TB':\n",
    "                volume += int(float(val[:-2])) * 1000\n",
    "\n",
    "        if val == '+':\n",
    "            continue\n",
    "        else:\n",
    "            if memory.find(' ') != -1:\n",
    "                memory = memory[memory.find(' ') + 1:]\n",
    "            else:\n",
    "                break\n",
    "\n",
    "    return volume\n",
    "\n",
    "def ssd_type(memory: str) -> int:\n",
    "    memory = memory.replace('   ', ' ')\n",
    "    memory = memory.replace('  ', ' ')\n",
    "    volume = 0\n",
    "\n",
    "    while len(memory) > 0:\n",
    "        val = memory[:memory.find(' ')]\n",
    "        memory = memory[memory.find(' ') + 1:]\n",
    "\n",
    "        type_ = ''\n",
    "        if memory.find(' ') != -1:\n",
    "            type_ = memory[:memory.find(' ')]\n",
    "        else:\n",
    "            type_ = memory[:]\n",
    "\n",
    "        if type_ == 'SSD':\n",
    "            if val[-2:] == 'GB':\n",
    "                volume += int(val[:-2])\n",
    "            elif val[-2:] == 'TB':\n",
    "                volume += int(float(val[:-2])) * 1000\n",
    "\n",
    "        if val == '+':\n",
    "            continue\n",
    "        else:\n",
    "            if memory.find(' ') != -1:\n",
    "                memory = memory[memory.find(' ') + 1:]\n",
    "            else:\n",
    "                break\n",
    "\n",
    "    return volume\n",
    "\n",
    "def hybrid_type(memory: str) -> int:\n",
    "    memory = memory.replace('   ', ' ')\n",
    "    memory = memory.replace('  ', ' ')\n",
    "    volume = 0\n",
    "\n",
    "    while len(memory) > 0:\n",
    "        val = memory[:memory.find(' ')]\n",
    "        memory = memory[memory.find(' ') + 1:]\n",
    "\n",
    "        type_ = ''\n",
    "        if memory.find(' ') != -1:\n",
    "            type_ = memory[:memory.find(' ')]\n",
    "        else:\n",
    "            type_ = memory[:]\n",
    "\n",
    "        if type_ == 'Hybrid':\n",
    "            if val[-2:] == 'GB':\n",
    "                volume += int(val[:-2])\n",
    "            elif val[-2:] == 'TB':\n",
    "                volume += int(float(val[:-2])) * 1000\n",
    "\n",
    "        if val == '+':\n",
    "            continue\n",
    "        else:\n",
    "            if memory.find(' ') != -1:\n",
    "                memory = memory[memory.find(' ') + 1:]\n",
    "            else:\n",
    "                break\n",
    "\n",
    "    return volume\n",
    "\n",
    "def flash_type(memory: str) -> int:\n",
    "    memory = memory.replace('   ', ' ')\n",
    "    memory = memory.replace('  ', ' ')\n",
    "    volume = 0\n",
    "\n",
    "    while len(memory) > 0:\n",
    "        val = memory[:memory.find(' ')]\n",
    "        memory = memory[memory.find(' ') + 1:]\n",
    "\n",
    "        type_ = ''\n",
    "        if memory.find(' ') != -1:\n",
    "            type_ = memory[:memory.find(' ')]\n",
    "        else:\n",
    "            type_ = memory[:]\n",
    "\n",
    "        if type_ == 'Flash':\n",
    "            if val[-2:] == 'GB':\n",
    "                volume += int(val[:-2])\n",
    "            elif val[-2:] == 'TB':\n",
    "                volume += int(float(val[:-2])) * 1000\n",
    "\n",
    "            memory = memory[memory.find(' ') + 1:]\n",
    "\n",
    "        if val == '+':\n",
    "            continue\n",
    "        else:\n",
    "            if memory.find(' ') != -1:\n",
    "                memory = memory[memory.find(' ') + 1:]\n",
    "            else:\n",
    "                break\n",
    "\n",
    "    return volume"
   ]
  },
  {
   "cell_type": "markdown",
   "metadata": {},
   "source": [
    "Преобразуем столбцы"
   ]
  },
  {
   "cell_type": "code",
   "execution_count": 33,
   "metadata": {},
   "outputs": [],
   "source": [
    "lblEnc = LabelEncoder()\n",
    "\n",
    "data['Company'] = lblEnc.fit_transform(data['Company'])\n",
    "\n",
    "del data['Product']\n",
    "\n",
    "data['TypeName'] = lblEnc.fit_transform(data['TypeName'])\n",
    "\n",
    "data['ScreenResolution'] = data['ScreenResolution'].apply(resolution_enc)\n",
    "\n",
    "data['Cpu'] = data['Cpu'].apply(del_cpu_freq)\n",
    "data['CpuPr'] = data['Cpu'].apply(get_cpu_cmp)\n",
    "data['CpuPr'] = lblEnc.fit_transform(data['CpuPr'])\n",
    "data['Cpu'] = data['Cpu'].apply(del_cpu_cmp)\n",
    "data['CpuModel'] = data['Cpu'].apply(get_cpu_model)\n",
    "data['CpuModel'] = lblEnc.fit_transform(data['CpuModel'])\n",
    "data['Cpu'] = data['Cpu'].apply(del_cpu_model)\n",
    "#data['CpuSeries'] = data['Cpu']\n",
    "#data['CpuSeries'] = lblEnc.fit_transform(data['CpuSeries'])\n",
    "del data['Cpu']\n",
    "\n",
    "data['Ram'] = data['Ram'].apply(ram_enc)\n",
    "\n",
    "data['HDD'] = data['Memory'].apply(hdd_type)\n",
    "data['SSD'] = data['Memory'].apply(ssd_type)\n",
    "data['Hybrid'] = data['Memory'].apply(hybrid_type)\n",
    "data['Flash'] = data['Memory'].apply(flash_type)\n",
    "del data['Memory']\n",
    "\n",
    "data['GpuPr'] = data['Gpu'].apply(get_gpu_cmp)\n",
    "data['GpuPr'] = lblEnc.fit_transform(data['GpuPr'])\n",
    "data['Gpu'] = data['Gpu'].apply(del_gpu_cmp)\n",
    "#data['GpuSeries'] = data['Gpu'].apply(get_gpu_series)\n",
    "#data['GpuSeries'] = lblEnc.fit_transform(data['GpuSeries'])\n",
    "data['Gpu'] = data['Gpu'].apply(del_gpu_series)\n",
    "data['GpuModel'] = data['Gpu']\n",
    "data['GpuModel'] = lblEnc.fit_transform(data['GpuModel'])\n",
    "del data['Gpu']\n",
    "\n",
    "data['OpSys'] = lblEnc.fit_transform(data['OpSys'])\n",
    "\n",
    "data['Weight'] = data['Weight'].apply(weight_enc)\n",
    "\n",
    "del data['laptop_ID']"
   ]
  },
  {
   "cell_type": "markdown",
   "metadata": {},
   "source": [
    "# Разделение данных"
   ]
  },
  {
   "cell_type": "markdown",
   "metadata": {},
   "source": [
    "Необходимые библиотеки"
   ]
  },
  {
   "cell_type": "code",
   "execution_count": 34,
   "metadata": {},
   "outputs": [],
   "source": [
    "from sklearn.model_selection import train_test_split"
   ]
  },
  {
   "cell_type": "markdown",
   "metadata": {},
   "source": [
    "Отделяем целевой признак"
   ]
  },
  {
   "cell_type": "code",
   "execution_count": 35,
   "metadata": {},
   "outputs": [],
   "source": [
    "y = data['Price_euros']\n",
    "del data['Price_euros']"
   ]
  },
  {
   "cell_type": "code",
   "execution_count": 36,
   "metadata": {},
   "outputs": [
    {
     "name": "stdout",
     "output_type": "stream",
     "text": [
      "<class 'pandas.core.frame.DataFrame'>\n",
      "RangeIndex: 1303 entries, 0 to 1302\n",
      "Data columns (total 15 columns):\n",
      " #   Column            Non-Null Count  Dtype  \n",
      "---  ------            --------------  -----  \n",
      " 0   Company           1303 non-null   int64  \n",
      " 1   TypeName          1303 non-null   int64  \n",
      " 2   Inches            1303 non-null   float64\n",
      " 3   ScreenResolution  1303 non-null   int64  \n",
      " 4   Ram               1303 non-null   int64  \n",
      " 5   OpSys             1303 non-null   int64  \n",
      " 6   Weight            1303 non-null   float64\n",
      " 7   CpuPr             1303 non-null   int64  \n",
      " 8   CpuModel          1303 non-null   int64  \n",
      " 9   HDD               1303 non-null   int64  \n",
      " 10  SSD               1303 non-null   int64  \n",
      " 11  Hybrid            1303 non-null   int64  \n",
      " 12  Flash             1303 non-null   int64  \n",
      " 13  GpuPr             1303 non-null   int64  \n",
      " 14  GpuModel          1303 non-null   int64  \n",
      "dtypes: float64(2), int64(13)\n",
      "memory usage: 152.8 KB\n"
     ]
    }
   ],
   "source": [
    "data.info()"
   ]
  },
  {
   "cell_type": "markdown",
   "metadata": {},
   "source": [
    "Создаём копии"
   ]
  },
  {
   "cell_type": "code",
   "execution_count": 37,
   "metadata": {},
   "outputs": [],
   "source": [
    "df = data.copy()\n",
    "\n",
    "df_mm = data.copy()\n",
    "\n",
    "df_ss = data.copy()"
   ]
  },
  {
   "cell_type": "markdown",
   "metadata": {},
   "source": [
    "Делим копии на обучающую и тестовую части"
   ]
  },
  {
   "cell_type": "code",
   "execution_count": 38,
   "metadata": {},
   "outputs": [],
   "source": [
    "df_train, df_test, y_train, y_test = train_test_split(df, y, test_size=0.2, random_state=57)"
   ]
  },
  {
   "cell_type": "code",
   "execution_count": 39,
   "metadata": {},
   "outputs": [],
   "source": [
    "df_mm_train, df_mm_test, y_train, y_test = train_test_split(df, y, test_size=0.2, random_state=57)"
   ]
  },
  {
   "cell_type": "code",
   "execution_count": 40,
   "metadata": {},
   "outputs": [],
   "source": [
    "df_ss_train, df_ss_test, y_train, y_test = train_test_split(df, y, test_size=0.2, random_state=57)"
   ]
  },
  {
   "cell_type": "markdown",
   "metadata": {},
   "source": [
    "# Нормализация данных"
   ]
  },
  {
   "cell_type": "markdown",
   "metadata": {},
   "source": [
    "Необходимые библиотеки"
   ]
  },
  {
   "cell_type": "code",
   "execution_count": 41,
   "metadata": {},
   "outputs": [],
   "source": [
    "from sklearn.preprocessing import StandardScaler\n",
    "from sklearn.preprocessing import MinMaxScaler"
   ]
  },
  {
   "cell_type": "markdown",
   "metadata": {},
   "source": [
    "Создаём нормализаторы"
   ]
  },
  {
   "cell_type": "code",
   "execution_count": 42,
   "metadata": {},
   "outputs": [],
   "source": [
    "std_scal =  StandardScaler()\n",
    "min_max_scal = MinMaxScaler()"
   ]
  },
  {
   "cell_type": "markdown",
   "metadata": {},
   "source": [
    "Выполняем нормализацию"
   ]
  },
  {
   "cell_type": "code",
   "execution_count": 43,
   "metadata": {},
   "outputs": [],
   "source": [
    "df_ss_train = std_scal.fit_transform(df_ss_train)\n",
    "df_ss_test = std_scal.fit_transform(df_ss_test)"
   ]
  },
  {
   "cell_type": "code",
   "execution_count": 44,
   "metadata": {},
   "outputs": [],
   "source": [
    "df_mm_train = min_max_scal.fit_transform(df_mm_train)\n",
    "df_mm_test = min_max_scal.fit_transform(df_mm_test)"
   ]
  },
  {
   "cell_type": "markdown",
   "metadata": {},
   "source": [
    "# Обучение данных "
   ]
  },
  {
   "cell_type": "markdown",
   "metadata": {},
   "source": [
    "Необходимые библиотеки"
   ]
  },
  {
   "cell_type": "code",
   "execution_count": 45,
   "metadata": {},
   "outputs": [],
   "source": [
    "from sklearn.linear_model import LinearRegression\n",
    "from sklearn.linear_model import Lasso\n",
    "from sklearn.linear_model import Ridge\n",
    "from sklearn.preprocessing import PolynomialFeatures\n",
    "\n",
    "from sklearn.metrics import r2_score\n",
    "from sklearn.metrics import mean_absolute_error\n",
    "from sklearn.metrics import mean_squared_error"
   ]
  },
  {
   "cell_type": "markdown",
   "metadata": {},
   "source": [
    "Функция для простой линейной регрессии"
   ]
  },
  {
   "cell_type": "code",
   "execution_count": 46,
   "metadata": {},
   "outputs": [],
   "source": [
    "def make_simple_line_reg(datasets: list[(pd.DataFrame, pd.DataFrame, pd.DataFrame, pd.DataFrame)]) -> None:\n",
    "    n = 1\n",
    "    for data in datasets:\n",
    "        line_model = LinearRegression()\n",
    "        line_model.fit(data[0], data[1])\n",
    "        y_pred = line_model.predict(data[2])\n",
    "\n",
    "        print('_____________________________________________') \n",
    "        if n == 1:\n",
    "            print('df:')\n",
    "        elif n == 2:\n",
    "            print('df_mm:')\n",
    "        else:\n",
    "            print('df_ss:')\n",
    "        print('  train:')\n",
    "        print('R2 =', (line_model.score(data[0], data[1])))\n",
    "        print('  test:')\n",
    "        print('R2 =', r2_score(data[3], y_pred))\n",
    "        print('MAE =', mean_absolute_error(data[3], y_pred))\n",
    "        print('MSE =', mean_squared_error(data[3], y_pred))\n",
    "        print('_____________________________________________') \n",
    "        \n",
    "        n += 1"
   ]
  },
  {
   "cell_type": "markdown",
   "metadata": {},
   "source": [
    "Функция для Lasso регрессии"
   ]
  },
  {
   "cell_type": "code",
   "execution_count": 47,
   "metadata": {},
   "outputs": [],
   "source": [
    "def make_lasso_reg(datasets: list[(pd.DataFrame, pd.DataFrame, pd.DataFrame, pd.DataFrame)]) -> None:\n",
    "    n = 1\n",
    "    for data in datasets:\n",
    "        reg_lasso = Lasso(alpha=0.1)\n",
    "        reg_lasso.fit(data[0], data[1])\n",
    "        y_pred = reg_lasso.predict(data[2])\n",
    "\n",
    "        print('_____________________________________________') \n",
    "        if n == 1:\n",
    "            print('df:')\n",
    "        elif n == 2:\n",
    "            print('df_mm:')\n",
    "        else:\n",
    "            print('df_ss:')\n",
    "        print('  train:')\n",
    "        print('R2 =', (reg_lasso.score(data[0], data[1])))\n",
    "        print('  test:')\n",
    "        print('R2 =', r2_score(data[3], y_pred))\n",
    "        print('MAE =', mean_absolute_error(data[3], y_pred))\n",
    "        print('MSE =', mean_squared_error(data[3], y_pred))\n",
    "        print('_____________________________________________') \n",
    "        \n",
    "        n += 1"
   ]
  },
  {
   "cell_type": "markdown",
   "metadata": {},
   "source": [
    "Функция для Ridge регресии"
   ]
  },
  {
   "cell_type": "code",
   "execution_count": 48,
   "metadata": {},
   "outputs": [],
   "source": [
    "def make_ridge_reg(datasets: list[(pd.DataFrame, pd.DataFrame, pd.DataFrame, pd.DataFrame)]) -> None:\n",
    "    n = 1\n",
    "    for data in datasets:\n",
    "        ridge_reg = Ridge(alpha=0.5)\n",
    "        ridge_reg.fit(data[0], data[1])\n",
    "        y_pred = ridge_reg.predict(data[2])\n",
    "\n",
    "        print('_____________________________________________') \n",
    "        if n == 1:\n",
    "            print('df:')\n",
    "        elif n == 2:\n",
    "            print('df_mm:')\n",
    "        else:\n",
    "            print('df_ss:')\n",
    "        print('  train:')\n",
    "        print('R2 =', (ridge_reg.score(data[0], data[1])))\n",
    "        print('  test:')\n",
    "        print('R2 =', r2_score(data[3], y_pred))\n",
    "        print('MAE =', mean_absolute_error(data[3], y_pred))\n",
    "        print('MSE =', mean_squared_error(data[3], y_pred))\n",
    "        print('_____________________________________________') \n",
    "        \n",
    "        n += 1"
   ]
  },
  {
   "cell_type": "markdown",
   "metadata": {},
   "source": [
    "Функция для полиномиальной регрессии"
   ]
  },
  {
   "cell_type": "code",
   "execution_count": 49,
   "metadata": {},
   "outputs": [],
   "source": [
    "def make_pf2_reg(datasets: list[(pd.DataFrame, pd.DataFrame, pd.DataFrame, pd.DataFrame)]) -> None:\n",
    "    n = 1\n",
    "    for data in datasets:\n",
    "        pf2 = PolynomialFeatures(degree = 2)\n",
    "        X_poly_train = pf2.fit_transform(data[0])\n",
    "        X_poly_test = pf2.fit_transform(data[2])\n",
    "\n",
    "        line_model = LinearRegression()\n",
    "        line_model.fit(X_poly_train, data[1])\n",
    "        y_pred = line_model.predict(X_poly_test)\n",
    "\n",
    "        print('_____________________________________________') \n",
    "        if n == 1:\n",
    "            print('df:')\n",
    "        elif n == 2:\n",
    "            print('df_mm:')\n",
    "        else:\n",
    "            print('df_ss:')\n",
    "        print('  train:')\n",
    "        print('R2 =', (line_model.score(X_poly_train, data[1])))\n",
    "        print('  test:')\n",
    "        print('R2 =', r2_score(data[3], y_pred))\n",
    "        print('MAE =', mean_absolute_error(data[3], y_pred))\n",
    "        print('MSE =', mean_squared_error(data[3], y_pred))\n",
    "        print('_____________________________________________') \n",
    "        \n",
    "        n += 1"
   ]
  },
  {
   "cell_type": "code",
   "execution_count": 50,
   "metadata": {},
   "outputs": [],
   "source": [
    "def make_pf3_reg(datasets: list[(pd.DataFrame, pd.DataFrame, pd.DataFrame, pd.DataFrame)]) -> None:\n",
    "    n = 1\n",
    "    for data in datasets:\n",
    "        pf2 = PolynomialFeatures(degree = 3)\n",
    "        X_poly_train = pf2.fit_transform(data[0])\n",
    "        X_poly_test = pf2.fit_transform(data[2])\n",
    "\n",
    "        line_model = LinearRegression()\n",
    "        line_model.fit(X_poly_train, data[1])\n",
    "        y_pred = line_model.predict(X_poly_test)\n",
    "\n",
    "        print('_____________________________________________') \n",
    "        if n == 1:\n",
    "            print('df:')\n",
    "        elif n == 2:\n",
    "            print('df_mm:')\n",
    "        else:\n",
    "            print('df_ss:')\n",
    "        print('  train:')\n",
    "        print('R2 =', (line_model.score(X_poly_train, data[1])))\n",
    "        print('  test:')\n",
    "        print('R2 =', r2_score(data[3], y_pred))\n",
    "        print('MAE =', mean_absolute_error(data[3], y_pred))\n",
    "        print('MSE =', mean_squared_error(data[3], y_pred))\n",
    "        print('_____________________________________________') \n",
    "        \n",
    "        n += 1"
   ]
  },
  {
   "cell_type": "markdown",
   "metadata": {},
   "source": [
    "Результаты обучения"
   ]
  },
  {
   "cell_type": "code",
   "execution_count": 51,
   "metadata": {},
   "outputs": [
    {
     "name": "stdout",
     "output_type": "stream",
     "text": [
      "_____________________________________________\n",
      "df:\n",
      "  train:\n",
      "R2 = 0.7130271270105355\n",
      "  test:\n",
      "R2 = 0.6998248429805864\n",
      "MAE = 293.6027605899889\n",
      "MSE = 193535.3550681728\n",
      "_____________________________________________\n",
      "_____________________________________________\n",
      "df_mm:\n",
      "  train:\n",
      "R2 = 0.7130271270105355\n",
      "  test:\n",
      "R2 = 0.2485956315373492\n",
      "MAE = 583.0325042858434\n",
      "MSE = 484461.51471752266\n",
      "_____________________________________________\n",
      "_____________________________________________\n",
      "df_ss:\n",
      "  train:\n",
      "R2 = 0.7130271270105355\n",
      "  test:\n",
      "R2 = 0.6929444502506765\n",
      "MAE = 306.54959361900666\n",
      "MSE = 197971.42920306692\n",
      "_____________________________________________\n"
     ]
    }
   ],
   "source": [
    "make_simple_line_reg([ (df_train, y_train, df_test, y_test),\n",
    "                       (df_mm_train, y_train, df_mm_test, y_test),\n",
    "                       (df_ss_train, y_train, df_ss_test, y_test) ])"
   ]
  },
  {
   "cell_type": "code",
   "execution_count": 52,
   "metadata": {},
   "outputs": [
    {
     "name": "stdout",
     "output_type": "stream",
     "text": [
      "_____________________________________________\n",
      "df:\n",
      "  train:\n",
      "R2 = 0.7130257769961781\n",
      "  test:\n",
      "R2 = 0.6999584966114428\n",
      "MAE = 293.55289397452646\n",
      "MSE = 193449.18303728002\n",
      "_____________________________________________\n",
      "_____________________________________________\n",
      "df_mm:\n",
      "  train:\n",
      "R2 = 0.7129961242134012\n",
      "  test:\n",
      "R2 = 0.26347128409657317\n",
      "MAE = 576.0357919414911\n",
      "MSE = 474870.56545807415\n",
      "_____________________________________________\n",
      "_____________________________________________\n",
      "df_ss:\n",
      "  train:\n",
      "R2 = 0.7130257941255977\n",
      "  test:\n",
      "R2 = 0.6930082424281865\n",
      "MAE = 306.5404950409942\n",
      "MSE = 197930.2997443617\n",
      "_____________________________________________\n"
     ]
    }
   ],
   "source": [
    "make_lasso_reg([ (df_train, y_train, df_test, y_test),\n",
    "                 (df_mm_train, y_train, df_mm_test, y_test),\n",
    "                 (df_ss_train, y_train, df_ss_test, y_test) ])"
   ]
  },
  {
   "cell_type": "code",
   "execution_count": 53,
   "metadata": {},
   "outputs": [
    {
     "name": "stdout",
     "output_type": "stream",
     "text": [
      "_____________________________________________\n",
      "df:\n",
      "  train:\n",
      "R2 = 0.7130260202981522\n",
      "  test:\n",
      "R2 = 0.6999702837581447\n",
      "MAE = 293.5328885587246\n",
      "MSE = 193441.58337565287\n",
      "_____________________________________________\n",
      "_____________________________________________\n",
      "df_mm:\n",
      "  train:\n",
      "R2 = 0.7119216845493941\n",
      "  test:\n",
      "R2 = 0.3559220194779198\n",
      "MAE = 538.7125832723157\n",
      "MSE = 415263.7476387519\n",
      "_____________________________________________\n",
      "_____________________________________________\n",
      "df_ss:\n",
      "  train:\n",
      "R2 = 0.7130265906504032\n",
      "  test:\n",
      "R2 = 0.6930097535584969\n",
      "MAE = 306.51624293149746\n",
      "MSE = 197929.32545606917\n",
      "_____________________________________________\n"
     ]
    },
    {
     "name": "stderr",
     "output_type": "stream",
     "text": [
      "/home/daniil/.local/lib/python3.10/site-packages/sklearn/linear_model/_ridge.py:216: LinAlgWarning: Ill-conditioned matrix (rcond=6.37739e-18): result may not be accurate.\n",
      "  return linalg.solve(A, Xy, assume_a=\"pos\", overwrite_a=True).T\n"
     ]
    }
   ],
   "source": [
    "make_ridge_reg([ (df_train, y_train, df_test, y_test),\n",
    "                 (df_mm_train, y_train, df_mm_test, y_test),\n",
    "                 (df_ss_train, y_train, df_ss_test, y_test) ])"
   ]
  },
  {
   "cell_type": "code",
   "execution_count": 54,
   "metadata": {},
   "outputs": [
    {
     "name": "stdout",
     "output_type": "stream",
     "text": [
      "_____________________________________________\n",
      "df:\n",
      "  train:\n",
      "R2 = 0.696816833450548\n",
      "  test:\n",
      "R2 = 0.4859700091366055\n",
      "MAE = 354.67633154412715\n",
      "MSE = 331416.4229486943\n",
      "_____________________________________________\n",
      "_____________________________________________\n",
      "df_mm:\n",
      "  train:\n",
      "R2 = 0.8498891292280297\n",
      "  test:\n",
      "R2 = 0.30983603709035246\n",
      "MAE = 464.2275865668034\n",
      "MSE = 444977.2890710517\n",
      "_____________________________________________\n",
      "_____________________________________________\n",
      "df_ss:\n",
      "  train:\n",
      "R2 = 0.8454020519006078\n",
      "  test:\n",
      "R2 = -6.78571438841661e+21\n",
      "MAE = 13231464691419.438\n",
      "MSE = 4.3750310871611636e+27\n",
      "_____________________________________________\n"
     ]
    }
   ],
   "source": [
    "make_pf2_reg([ (df_train, y_train, df_test, y_test),\n",
    "                 (df_mm_train, y_train, df_mm_test, y_test),\n",
    "                 (df_ss_train, y_train, df_ss_test, y_test) ])"
   ]
  },
  {
   "cell_type": "code",
   "execution_count": 55,
   "metadata": {},
   "outputs": [
    {
     "name": "stdout",
     "output_type": "stream",
     "text": [
      "_____________________________________________\n",
      "df:\n",
      "  train:\n",
      "R2 = 0.6697786602047486\n",
      "  test:\n",
      "R2 = -2.291710150812941\n",
      "MAE = 500.68127114357924\n",
      "MSE = 2122301.855839089\n",
      "_____________________________________________\n",
      "_____________________________________________\n",
      "df_mm:\n",
      "  train:\n",
      "R2 = 0.9326849866148593\n",
      "  test:\n",
      "R2 = -2.97069398465115e+19\n",
      "MAE = 3480209846377.1284\n",
      "MSE = 1.91532943907534e+25\n",
      "_____________________________________________\n",
      "_____________________________________________\n",
      "df_ss:\n",
      "  train:\n",
      "R2 = 0.9319647262293198\n",
      "  test:\n",
      "R2 = -1.2165160869264564e+21\n",
      "MAE = 3078725777911.177\n",
      "MSE = 7.843383015678047e+26\n",
      "_____________________________________________\n"
     ]
    }
   ],
   "source": [
    "make_pf3_reg([ (df_train, y_train, df_test, y_test),\n",
    "                 (df_mm_train, y_train, df_mm_test, y_test),\n",
    "                 (df_ss_train, y_train, df_ss_test, y_test) ])"
   ]
  }
 ],
 "metadata": {
  "kernelspec": {
   "display_name": "Python 3",
   "language": "python",
   "name": "python3"
  },
  "language_info": {
   "codemirror_mode": {
    "name": "ipython",
    "version": 3
   },
   "file_extension": ".py",
   "mimetype": "text/x-python",
   "name": "python",
   "nbconvert_exporter": "python",
   "pygments_lexer": "ipython3",
   "version": "3.10.12"
  }
 },
 "nbformat": 4,
 "nbformat_minor": 2
}
