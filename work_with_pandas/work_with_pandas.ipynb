{
 "cells": [
  {
   "cell_type": "code",
   "execution_count": 3,
   "metadata": {},
   "outputs": [],
   "source": [
    "import pandas as pd"
   ]
  },
  {
   "cell_type": "markdown",
   "metadata": {},
   "source": [
    "# 1. Откройте набор данных. Посмотрите на содержимое, выведя в содержимое нескольких строчек."
   ]
  },
  {
   "cell_type": "markdown",
   "metadata": {},
   "source": [
    "Импортируем данные:"
   ]
  },
  {
   "cell_type": "code",
   "execution_count": 4,
   "metadata": {},
   "outputs": [],
   "source": [
    "data = pd.read_csv('mental_health_and_technology_usage_2024.csv')"
   ]
  },
  {
   "cell_type": "markdown",
   "metadata": {},
   "source": [
    "Смотрим на содержимое строчек:"
   ]
  },
  {
   "cell_type": "code",
   "execution_count": 5,
   "metadata": {},
   "outputs": [
    {
     "data": {
      "text/html": [
       "<div>\n",
       "<style scoped>\n",
       "    .dataframe tbody tr th:only-of-type {\n",
       "        vertical-align: middle;\n",
       "    }\n",
       "\n",
       "    .dataframe tbody tr th {\n",
       "        vertical-align: top;\n",
       "    }\n",
       "\n",
       "    .dataframe thead th {\n",
       "        text-align: right;\n",
       "    }\n",
       "</style>\n",
       "<table border=\"1\" class=\"dataframe\">\n",
       "  <thead>\n",
       "    <tr style=\"text-align: right;\">\n",
       "      <th></th>\n",
       "      <th>User_ID</th>\n",
       "      <th>Age</th>\n",
       "      <th>Gender</th>\n",
       "      <th>Technology_Usage_Hours</th>\n",
       "      <th>Social_Media_Usage_Hours</th>\n",
       "      <th>Gaming_Hours</th>\n",
       "      <th>Screen_Time_Hours</th>\n",
       "      <th>Mental_Health_Status</th>\n",
       "      <th>Stress_Level</th>\n",
       "      <th>Sleep_Hours</th>\n",
       "      <th>Physical_Activity_Hours</th>\n",
       "      <th>Support_Systems_Access</th>\n",
       "      <th>Work_Environment_Impact</th>\n",
       "      <th>Online_Support_Usage</th>\n",
       "    </tr>\n",
       "  </thead>\n",
       "  <tbody>\n",
       "    <tr>\n",
       "      <th>4847</th>\n",
       "      <td>USER-04848</td>\n",
       "      <td>36</td>\n",
       "      <td>Male</td>\n",
       "      <td>8.45</td>\n",
       "      <td>0.88</td>\n",
       "      <td>1.23</td>\n",
       "      <td>4.75</td>\n",
       "      <td>Excellent</td>\n",
       "      <td>Medium</td>\n",
       "      <td>6.39</td>\n",
       "      <td>0.58</td>\n",
       "      <td>Yes</td>\n",
       "      <td>Positive</td>\n",
       "      <td>Yes</td>\n",
       "    </tr>\n",
       "    <tr>\n",
       "      <th>625</th>\n",
       "      <td>USER-00626</td>\n",
       "      <td>52</td>\n",
       "      <td>Other</td>\n",
       "      <td>3.75</td>\n",
       "      <td>0.86</td>\n",
       "      <td>1.09</td>\n",
       "      <td>11.37</td>\n",
       "      <td>Fair</td>\n",
       "      <td>High</td>\n",
       "      <td>8.42</td>\n",
       "      <td>4.02</td>\n",
       "      <td>Yes</td>\n",
       "      <td>Neutral</td>\n",
       "      <td>No</td>\n",
       "    </tr>\n",
       "    <tr>\n",
       "      <th>5491</th>\n",
       "      <td>USER-05492</td>\n",
       "      <td>52</td>\n",
       "      <td>Other</td>\n",
       "      <td>5.44</td>\n",
       "      <td>2.58</td>\n",
       "      <td>0.28</td>\n",
       "      <td>9.46</td>\n",
       "      <td>Fair</td>\n",
       "      <td>High</td>\n",
       "      <td>8.34</td>\n",
       "      <td>9.28</td>\n",
       "      <td>Yes</td>\n",
       "      <td>Positive</td>\n",
       "      <td>Yes</td>\n",
       "    </tr>\n",
       "    <tr>\n",
       "      <th>4788</th>\n",
       "      <td>USER-04789</td>\n",
       "      <td>33</td>\n",
       "      <td>Female</td>\n",
       "      <td>11.58</td>\n",
       "      <td>7.73</td>\n",
       "      <td>3.03</td>\n",
       "      <td>5.00</td>\n",
       "      <td>Good</td>\n",
       "      <td>Low</td>\n",
       "      <td>6.65</td>\n",
       "      <td>7.40</td>\n",
       "      <td>Yes</td>\n",
       "      <td>Positive</td>\n",
       "      <td>Yes</td>\n",
       "    </tr>\n",
       "    <tr>\n",
       "      <th>9017</th>\n",
       "      <td>USER-09018</td>\n",
       "      <td>42</td>\n",
       "      <td>Other</td>\n",
       "      <td>1.73</td>\n",
       "      <td>3.57</td>\n",
       "      <td>0.65</td>\n",
       "      <td>8.82</td>\n",
       "      <td>Good</td>\n",
       "      <td>Low</td>\n",
       "      <td>5.59</td>\n",
       "      <td>9.91</td>\n",
       "      <td>No</td>\n",
       "      <td>Neutral</td>\n",
       "      <td>Yes</td>\n",
       "    </tr>\n",
       "  </tbody>\n",
       "</table>\n",
       "</div>"
      ],
      "text/plain": [
       "         User_ID  Age  Gender  Technology_Usage_Hours  \\\n",
       "4847  USER-04848   36    Male                    8.45   \n",
       "625   USER-00626   52   Other                    3.75   \n",
       "5491  USER-05492   52   Other                    5.44   \n",
       "4788  USER-04789   33  Female                   11.58   \n",
       "9017  USER-09018   42   Other                    1.73   \n",
       "\n",
       "      Social_Media_Usage_Hours  Gaming_Hours  Screen_Time_Hours  \\\n",
       "4847                      0.88          1.23               4.75   \n",
       "625                       0.86          1.09              11.37   \n",
       "5491                      2.58          0.28               9.46   \n",
       "4788                      7.73          3.03               5.00   \n",
       "9017                      3.57          0.65               8.82   \n",
       "\n",
       "     Mental_Health_Status Stress_Level  Sleep_Hours  Physical_Activity_Hours  \\\n",
       "4847            Excellent       Medium         6.39                     0.58   \n",
       "625                  Fair         High         8.42                     4.02   \n",
       "5491                 Fair         High         8.34                     9.28   \n",
       "4788                 Good          Low         6.65                     7.40   \n",
       "9017                 Good          Low         5.59                     9.91   \n",
       "\n",
       "     Support_Systems_Access Work_Environment_Impact Online_Support_Usage  \n",
       "4847                    Yes                Positive                  Yes  \n",
       "625                     Yes                 Neutral                   No  \n",
       "5491                    Yes                Positive                  Yes  \n",
       "4788                    Yes                Positive                  Yes  \n",
       "9017                     No                 Neutral                  Yes  "
      ]
     },
     "execution_count": 5,
     "metadata": {},
     "output_type": "execute_result"
    }
   ],
   "source": [
    "data.sample(5)"
   ]
  },
  {
   "cell_type": "markdown",
   "metadata": {},
   "source": [
    "# 2. Посмотрите с помощью методов Pandas на количество строчек и столбцов, информацию о столбцах (info)."
   ]
  },
  {
   "cell_type": "markdown",
   "metadata": {},
   "source": [
    "Количество строк в датасете:"
   ]
  },
  {
   "cell_type": "code",
   "execution_count": 6,
   "metadata": {},
   "outputs": [
    {
     "data": {
      "text/plain": [
       "10000"
      ]
     },
     "execution_count": 6,
     "metadata": {},
     "output_type": "execute_result"
    }
   ],
   "source": [
    "data.shape[0]"
   ]
  },
  {
   "cell_type": "markdown",
   "metadata": {},
   "source": [
    "Количество столбцов в датасете:"
   ]
  },
  {
   "cell_type": "code",
   "execution_count": 7,
   "metadata": {},
   "outputs": [
    {
     "data": {
      "text/plain": [
       "14"
      ]
     },
     "execution_count": 7,
     "metadata": {},
     "output_type": "execute_result"
    }
   ],
   "source": [
    "data.shape[1]"
   ]
  },
  {
   "cell_type": "markdown",
   "metadata": {},
   "source": [
    "Выведем информацию о столбцах:"
   ]
  },
  {
   "cell_type": "code",
   "execution_count": 8,
   "metadata": {},
   "outputs": [
    {
     "name": "stdout",
     "output_type": "stream",
     "text": [
      "<class 'pandas.core.frame.DataFrame'>\n",
      "RangeIndex: 10000 entries, 0 to 9999\n",
      "Data columns (total 14 columns):\n",
      " #   Column                    Non-Null Count  Dtype  \n",
      "---  ------                    --------------  -----  \n",
      " 0   User_ID                   10000 non-null  object \n",
      " 1   Age                       10000 non-null  int64  \n",
      " 2   Gender                    10000 non-null  object \n",
      " 3   Technology_Usage_Hours    10000 non-null  float64\n",
      " 4   Social_Media_Usage_Hours  10000 non-null  float64\n",
      " 5   Gaming_Hours              10000 non-null  float64\n",
      " 6   Screen_Time_Hours         10000 non-null  float64\n",
      " 7   Mental_Health_Status      10000 non-null  object \n",
      " 8   Stress_Level              10000 non-null  object \n",
      " 9   Sleep_Hours               10000 non-null  float64\n",
      " 10  Physical_Activity_Hours   10000 non-null  float64\n",
      " 11  Support_Systems_Access    10000 non-null  object \n",
      " 12  Work_Environment_Impact   10000 non-null  object \n",
      " 13  Online_Support_Usage      10000 non-null  object \n",
      "dtypes: float64(6), int64(1), object(7)\n",
      "memory usage: 1.1+ MB\n"
     ]
    }
   ],
   "source": [
    "data.info()"
   ]
  },
  {
   "cell_type": "markdown",
   "metadata": {},
   "source": [
    "# 3. Выведите название столбцов и сопоставьте им русские названия в текстовой ячейке."
   ]
  },
  {
   "cell_type": "markdown",
   "metadata": {},
   "source": [
    "Посмотрим на названия столбцов:"
   ]
  },
  {
   "cell_type": "code",
   "execution_count": 9,
   "metadata": {},
   "outputs": [
    {
     "data": {
      "text/plain": [
       "Index(['User_ID', 'Age', 'Gender', 'Technology_Usage_Hours',\n",
       "       'Social_Media_Usage_Hours', 'Gaming_Hours', 'Screen_Time_Hours',\n",
       "       'Mental_Health_Status', 'Stress_Level', 'Sleep_Hours',\n",
       "       'Physical_Activity_Hours', 'Support_Systems_Access',\n",
       "       'Work_Environment_Impact', 'Online_Support_Usage'],\n",
       "      dtype='object')"
      ]
     },
     "execution_count": 9,
     "metadata": {},
     "output_type": "execute_result"
    }
   ],
   "source": [
    "data.columns"
   ]
  },
  {
   "cell_type": "markdown",
   "metadata": {},
   "source": [
    "Сопоставим столбцам русские названия:"
   ]
  },
  {
   "cell_type": "code",
   "execution_count": 10,
   "metadata": {},
   "outputs": [],
   "source": [
    "data = data.rename(columns={'User_ID': 'ID', 'Age': 'Возраст', 'Gender': 'Пол', 'Technology_Usage_Hours': 'Время_использования',\n",
    "                            'Social_Media_Usage_Hours': 'Время_использования_социальных_медиа',\n",
    "                            'Gaming_Hours': 'Время_в_играх', 'Screen_Time_Hours': 'Экранное_время',\n",
    "                            'Mental_Health_Status': 'Статус_ментального_здоровья',\n",
    "                            'Stress_Level': 'Уровень_стресса', 'Sleep_Hours': 'Время_сна',\n",
    "                            'Physical_Activity_Hours': 'Время_физической_активности',\n",
    "                            'Support_Systems_Access': 'Саппорт_систем_аксесс', 'Work_Environment_Impact': 'Ворк_энвайронмент_импакт',\n",
    "                            'Online_Support_Usage': 'Онлайн_саппорт_юсадж'})"
   ]
  },
  {
   "cell_type": "markdown",
   "metadata": {},
   "source": [
    "Проверим:"
   ]
  },
  {
   "cell_type": "code",
   "execution_count": 11,
   "metadata": {},
   "outputs": [
    {
     "data": {
      "text/plain": [
       "Index(['ID', 'Возраст', 'Пол', 'Время_использования',\n",
       "       'Время_использования_социальных_медиа', 'Время_в_играх',\n",
       "       'Экранное_время', 'Статус_ментального_здоровья', 'Уровень_стресса',\n",
       "       'Время_сна', 'Время_физической_активности', 'Саппорт_систем_аксесс',\n",
       "       'Ворк_энвайронмент_импакт', 'Онлайн_саппорт_юсадж'],\n",
       "      dtype='object')"
      ]
     },
     "execution_count": 11,
     "metadata": {},
     "output_type": "execute_result"
    }
   ],
   "source": [
    "data.columns"
   ]
  },
  {
   "cell_type": "markdown",
   "metadata": {},
   "source": [
    "# 4. Посмотрите описание (describe) числовых столбцов. Сделайте вывод о наборе по минимальному и максимальному значениям, по среднему значению, по значению квартилей."
   ]
  },
  {
   "cell_type": "markdown",
   "metadata": {},
   "source": [
    "Посмотрим описание числовых столбцов:"
   ]
  },
  {
   "cell_type": "code",
   "execution_count": 13,
   "metadata": {},
   "outputs": [
    {
     "data": {
      "text/html": [
       "<div>\n",
       "<style scoped>\n",
       "    .dataframe tbody tr th:only-of-type {\n",
       "        vertical-align: middle;\n",
       "    }\n",
       "\n",
       "    .dataframe tbody tr th {\n",
       "        vertical-align: top;\n",
       "    }\n",
       "\n",
       "    .dataframe thead th {\n",
       "        text-align: right;\n",
       "    }\n",
       "</style>\n",
       "<table border=\"1\" class=\"dataframe\">\n",
       "  <thead>\n",
       "    <tr style=\"text-align: right;\">\n",
       "      <th></th>\n",
       "      <th>Возраст</th>\n",
       "      <th>Время_использования</th>\n",
       "      <th>Время_использования_социальных_медиа</th>\n",
       "      <th>Время_в_играх</th>\n",
       "      <th>Экранное_время</th>\n",
       "      <th>Время_сна</th>\n",
       "      <th>Время_физической_активности</th>\n",
       "    </tr>\n",
       "  </thead>\n",
       "  <tbody>\n",
       "    <tr>\n",
       "      <th>count</th>\n",
       "      <td>10000.000000</td>\n",
       "      <td>10000.000000</td>\n",
       "      <td>10000.000000</td>\n",
       "      <td>10000.000000</td>\n",
       "      <td>10000.000000</td>\n",
       "      <td>10000.000000</td>\n",
       "      <td>10000.000000</td>\n",
       "    </tr>\n",
       "    <tr>\n",
       "      <th>mean</th>\n",
       "      <td>41.518600</td>\n",
       "      <td>6.474341</td>\n",
       "      <td>3.972321</td>\n",
       "      <td>2.515598</td>\n",
       "      <td>7.975765</td>\n",
       "      <td>6.500724</td>\n",
       "      <td>5.003860</td>\n",
       "    </tr>\n",
       "    <tr>\n",
       "      <th>std</th>\n",
       "      <td>13.920217</td>\n",
       "      <td>3.169022</td>\n",
       "      <td>2.313707</td>\n",
       "      <td>1.446748</td>\n",
       "      <td>4.042608</td>\n",
       "      <td>1.450933</td>\n",
       "      <td>2.905044</td>\n",
       "    </tr>\n",
       "    <tr>\n",
       "      <th>min</th>\n",
       "      <td>18.000000</td>\n",
       "      <td>1.000000</td>\n",
       "      <td>0.000000</td>\n",
       "      <td>0.000000</td>\n",
       "      <td>1.000000</td>\n",
       "      <td>4.000000</td>\n",
       "      <td>0.000000</td>\n",
       "    </tr>\n",
       "    <tr>\n",
       "      <th>25%</th>\n",
       "      <td>29.000000</td>\n",
       "      <td>3.760000</td>\n",
       "      <td>1.980000</td>\n",
       "      <td>1.260000</td>\n",
       "      <td>4.520000</td>\n",
       "      <td>5.260000</td>\n",
       "      <td>2.490000</td>\n",
       "    </tr>\n",
       "    <tr>\n",
       "      <th>50%</th>\n",
       "      <td>42.000000</td>\n",
       "      <td>6.425000</td>\n",
       "      <td>3.950000</td>\n",
       "      <td>2.520000</td>\n",
       "      <td>7.900000</td>\n",
       "      <td>6.500000</td>\n",
       "      <td>4.990000</td>\n",
       "    </tr>\n",
       "    <tr>\n",
       "      <th>75%</th>\n",
       "      <td>54.000000</td>\n",
       "      <td>9.212500</td>\n",
       "      <td>5.990000</td>\n",
       "      <td>3.790000</td>\n",
       "      <td>11.500000</td>\n",
       "      <td>7.760000</td>\n",
       "      <td>7.540000</td>\n",
       "    </tr>\n",
       "    <tr>\n",
       "      <th>max</th>\n",
       "      <td>65.000000</td>\n",
       "      <td>12.000000</td>\n",
       "      <td>8.000000</td>\n",
       "      <td>5.000000</td>\n",
       "      <td>15.000000</td>\n",
       "      <td>9.000000</td>\n",
       "      <td>10.000000</td>\n",
       "    </tr>\n",
       "  </tbody>\n",
       "</table>\n",
       "</div>"
      ],
      "text/plain": [
       "            Возраст  Время_использования  \\\n",
       "count  10000.000000         10000.000000   \n",
       "mean      41.518600             6.474341   \n",
       "std       13.920217             3.169022   \n",
       "min       18.000000             1.000000   \n",
       "25%       29.000000             3.760000   \n",
       "50%       42.000000             6.425000   \n",
       "75%       54.000000             9.212500   \n",
       "max       65.000000            12.000000   \n",
       "\n",
       "       Время_использования_социальных_медиа  Время_в_играх  Экранное_время  \\\n",
       "count                          10000.000000   10000.000000    10000.000000   \n",
       "mean                               3.972321       2.515598        7.975765   \n",
       "std                                2.313707       1.446748        4.042608   \n",
       "min                                0.000000       0.000000        1.000000   \n",
       "25%                                1.980000       1.260000        4.520000   \n",
       "50%                                3.950000       2.520000        7.900000   \n",
       "75%                                5.990000       3.790000       11.500000   \n",
       "max                                8.000000       5.000000       15.000000   \n",
       "\n",
       "          Время_сна  Время_физической_активности  \n",
       "count  10000.000000                 10000.000000  \n",
       "mean       6.500724                     5.003860  \n",
       "std        1.450933                     2.905044  \n",
       "min        4.000000                     0.000000  \n",
       "25%        5.260000                     2.490000  \n",
       "50%        6.500000                     4.990000  \n",
       "75%        7.760000                     7.540000  \n",
       "max        9.000000                    10.000000  "
      ]
     },
     "execution_count": 13,
     "metadata": {},
     "output_type": "execute_result"
    }
   ],
   "source": [
    "numerical = ['Возраст', 'Время_использования', 'Время_использования_социальных_медиа', 'Время_в_играх', 'Экранное_время', 'Время_сна', 'Время_физической_активности']\n",
    "data[numerical].describe()"
   ]
  },
  {
   "cell_type": "markdown",
   "metadata": {},
   "source": [
    "Теперь опишем данные по столбцам:\n",
    "\n",
    "Возраст: Можно сказать, что всё в столбце хорошо, выбросов не видно, по квартилям, среднему и отклонениям тоже всё в норме, больших разбросов нет.\n",
    "\n",
    "Время_использования: По данному столбцу тоже всё в порядке, однако, возможны некторые зашкаливающие значения, например время использования 12 часов.\n",
    "\n",
    "Время_использования_социальных_медиа: В столбце всё хорошо, значения в норме, разброс тоже в норме.\n",
    "\n",
    "Время_в_играх: В столбце всё хорошо, значения в норме, разброс тоже в норме.\n",
    "\n",
    "Экранное_время: По данному столбцу тоже всё в порядке, однако, возможны некторые зашкаливающие значения, например время использования 15 часов - это очень много + это сильно больше 3 квартиля.\n",
    "\n",
    "Время_сна: В столбце всё хорошо, значения в норме, разброс тоже в норме.\n",
    "\n",
    "Время_физической_активности: В столбце всё хорошо, значения в норме, разброс тоже в норме."
   ]
  },
  {
   "cell_type": "markdown",
   "metadata": {},
   "source": [
    "# 5. Посмотрите описание (describe) категориальных / текстовых столбцов. Сделайте выводы."
   ]
  },
  {
   "cell_type": "markdown",
   "metadata": {},
   "source": [
    "Посмотрим описание категориальх столбцов:"
   ]
  },
  {
   "cell_type": "code",
   "execution_count": 20,
   "metadata": {},
   "outputs": [],
   "source": [
    "categorical_or_text = ['Пол', 'Статус_ментального_здоровья', 'Уровень_стресса', 'Саппорт_систем_аксесс', 'Ворк_энвайронмент_импакт', 'Онлайн_саппорт_юсадж']"
   ]
  },
  {
   "cell_type": "code",
   "execution_count": 24,
   "metadata": {},
   "outputs": [
    {
     "data": {
      "text/html": [
       "<div>\n",
       "<style scoped>\n",
       "    .dataframe tbody tr th:only-of-type {\n",
       "        vertical-align: middle;\n",
       "    }\n",
       "\n",
       "    .dataframe tbody tr th {\n",
       "        vertical-align: top;\n",
       "    }\n",
       "\n",
       "    .dataframe thead th {\n",
       "        text-align: right;\n",
       "    }\n",
       "</style>\n",
       "<table border=\"1\" class=\"dataframe\">\n",
       "  <thead>\n",
       "    <tr style=\"text-align: right;\">\n",
       "      <th></th>\n",
       "      <th>Пол</th>\n",
       "      <th>Статус_ментального_здоровья</th>\n",
       "      <th>Уровень_стресса</th>\n",
       "      <th>Саппорт_систем_аксесс</th>\n",
       "      <th>Ворк_энвайронмент_импакт</th>\n",
       "      <th>Онлайн_саппорт_юсадж</th>\n",
       "    </tr>\n",
       "  </thead>\n",
       "  <tbody>\n",
       "    <tr>\n",
       "      <th>count</th>\n",
       "      <td>10000</td>\n",
       "      <td>10000</td>\n",
       "      <td>10000</td>\n",
       "      <td>10000</td>\n",
       "      <td>10000</td>\n",
       "      <td>10000</td>\n",
       "    </tr>\n",
       "    <tr>\n",
       "      <th>unique</th>\n",
       "      <td>3</td>\n",
       "      <td>4</td>\n",
       "      <td>3</td>\n",
       "      <td>2</td>\n",
       "      <td>3</td>\n",
       "      <td>2</td>\n",
       "    </tr>\n",
       "    <tr>\n",
       "      <th>top</th>\n",
       "      <td>Other</td>\n",
       "      <td>Excellent</td>\n",
       "      <td>Medium</td>\n",
       "      <td>No</td>\n",
       "      <td>Negative</td>\n",
       "      <td>No</td>\n",
       "    </tr>\n",
       "    <tr>\n",
       "      <th>freq</th>\n",
       "      <td>3364</td>\n",
       "      <td>2518</td>\n",
       "      <td>3338</td>\n",
       "      <td>5006</td>\n",
       "      <td>3378</td>\n",
       "      <td>5013</td>\n",
       "    </tr>\n",
       "  </tbody>\n",
       "</table>\n",
       "</div>"
      ],
      "text/plain": [
       "          Пол Статус_ментального_здоровья Уровень_стресса  \\\n",
       "count   10000                       10000           10000   \n",
       "unique      3                           4               3   \n",
       "top     Other                   Excellent          Medium   \n",
       "freq     3364                        2518            3338   \n",
       "\n",
       "       Саппорт_систем_аксесс Ворк_энвайронмент_импакт Онлайн_саппорт_юсадж  \n",
       "count                  10000                    10000                10000  \n",
       "unique                     2                        3                    2  \n",
       "top                       No                 Negative                   No  \n",
       "freq                    5006                     3378                 5013  "
      ]
     },
     "execution_count": 24,
     "metadata": {},
     "output_type": "execute_result"
    }
   ],
   "source": [
    "data[categorical_or_text].describe()"
   ]
  },
  {
   "cell_type": "markdown",
   "metadata": {},
   "source": [
    "Опишем столбцы:\n",
    "\n",
    "Со столбцами, вроде, всё хорошо, что-то плохое не наблюдается."
   ]
  },
  {
   "cell_type": "markdown",
   "metadata": {},
   "source": [
    "# 6. Для категориальных признаков посмотрите на уникальные значения этих признаков."
   ]
  },
  {
   "cell_type": "markdown",
   "metadata": {},
   "source": [
    "Выведем уникальные значения по каждому из столбцов:"
   ]
  },
  {
   "cell_type": "code",
   "execution_count": 26,
   "metadata": {},
   "outputs": [
    {
     "name": "stdout",
     "output_type": "stream",
     "text": [
      "Пол: uniques = ['Female' 'Male' 'Other']\n",
      "Статус_ментального_здоровья: uniques = ['Good' 'Poor' 'Fair' 'Excellent']\n",
      "Уровень_стресса: uniques = ['Low' 'High' 'Medium']\n",
      "Саппорт_систем_аксесс: uniques = ['No' 'Yes']\n",
      "Ворк_энвайронмент_импакт: uniques = ['Negative' 'Positive' 'Neutral']\n",
      "Онлайн_саппорт_юсадж: uniques = ['Yes' 'No']\n"
     ]
    }
   ],
   "source": [
    "for i in categorical_or_text:\n",
    "    print('{0}: uniques = {1}'.format(i, data[i].unique()))"
   ]
  },
  {
   "cell_type": "markdown",
   "metadata": {},
   "source": [
    "# 7. Попытайтесь выявить зависимости между психологическим состоянием ( Mental_Health_Status) и такими признаками как Gaming_Hours, Screen_Time_Hours, Sleep_Hours. Используйте группировку (по Mental_Health_Status - обязательно, по остальным признакам по желанию) и агрегацию данных."
   ]
  },
  {
   "cell_type": "markdown",
   "metadata": {},
   "source": [
    "Связь между Mental_Health_Status и Gaming_Hours:"
   ]
  },
  {
   "cell_type": "code",
   "execution_count": 52,
   "metadata": {},
   "outputs": [
    {
     "data": {
      "text/html": [
       "<div>\n",
       "<style scoped>\n",
       "    .dataframe tbody tr th:only-of-type {\n",
       "        vertical-align: middle;\n",
       "    }\n",
       "\n",
       "    .dataframe tbody tr th {\n",
       "        vertical-align: top;\n",
       "    }\n",
       "\n",
       "    .dataframe thead tr th {\n",
       "        text-align: left;\n",
       "    }\n",
       "\n",
       "    .dataframe thead tr:last-of-type th {\n",
       "        text-align: right;\n",
       "    }\n",
       "</style>\n",
       "<table border=\"1\" class=\"dataframe\">\n",
       "  <thead>\n",
       "    <tr>\n",
       "      <th></th>\n",
       "      <th colspan=\"4\" halign=\"left\">Время_в_играх</th>\n",
       "    </tr>\n",
       "    <tr>\n",
       "      <th></th>\n",
       "      <th>max</th>\n",
       "      <th>mean</th>\n",
       "      <th>median</th>\n",
       "      <th>min</th>\n",
       "    </tr>\n",
       "    <tr>\n",
       "      <th>Статус_ментального_здоровья</th>\n",
       "      <th></th>\n",
       "      <th></th>\n",
       "      <th></th>\n",
       "      <th></th>\n",
       "    </tr>\n",
       "  </thead>\n",
       "  <tbody>\n",
       "    <tr>\n",
       "      <th>Excellent</th>\n",
       "      <td>5.0</td>\n",
       "      <td>2.542133</td>\n",
       "      <td>2.53</td>\n",
       "      <td>0.0</td>\n",
       "    </tr>\n",
       "    <tr>\n",
       "      <th>Fair</th>\n",
       "      <td>5.0</td>\n",
       "      <td>2.494956</td>\n",
       "      <td>2.51</td>\n",
       "      <td>0.0</td>\n",
       "    </tr>\n",
       "    <tr>\n",
       "      <th>Good</th>\n",
       "      <td>5.0</td>\n",
       "      <td>2.503596</td>\n",
       "      <td>2.51</td>\n",
       "      <td>0.0</td>\n",
       "    </tr>\n",
       "    <tr>\n",
       "      <th>Poor</th>\n",
       "      <td>5.0</td>\n",
       "      <td>2.521510</td>\n",
       "      <td>2.51</td>\n",
       "      <td>0.0</td>\n",
       "    </tr>\n",
       "  </tbody>\n",
       "</table>\n",
       "</div>"
      ],
      "text/plain": [
       "                            Время_в_играх                      \n",
       "                                      max      mean median  min\n",
       "Статус_ментального_здоровья                                    \n",
       "Excellent                             5.0  2.542133   2.53  0.0\n",
       "Fair                                  5.0  2.494956   2.51  0.0\n",
       "Good                                  5.0  2.503596   2.51  0.0\n",
       "Poor                                  5.0  2.521510   2.51  0.0"
      ]
     },
     "execution_count": 52,
     "metadata": {},
     "output_type": "execute_result"
    }
   ],
   "source": [
    "data[['Статус_ментального_здоровья', 'Время_в_играх']].groupby('Статус_ментального_здоровья').agg({'Время_в_играх' : ['max', 'mean', 'median', 'min']})"
   ]
  },
  {
   "cell_type": "markdown",
   "metadata": {},
   "source": [
    "Связь между Mental_Health_Status и Screen_Time_Hours:"
   ]
  },
  {
   "cell_type": "code",
   "execution_count": 53,
   "metadata": {},
   "outputs": [
    {
     "data": {
      "text/html": [
       "<div>\n",
       "<style scoped>\n",
       "    .dataframe tbody tr th:only-of-type {\n",
       "        vertical-align: middle;\n",
       "    }\n",
       "\n",
       "    .dataframe tbody tr th {\n",
       "        vertical-align: top;\n",
       "    }\n",
       "\n",
       "    .dataframe thead tr th {\n",
       "        text-align: left;\n",
       "    }\n",
       "\n",
       "    .dataframe thead tr:last-of-type th {\n",
       "        text-align: right;\n",
       "    }\n",
       "</style>\n",
       "<table border=\"1\" class=\"dataframe\">\n",
       "  <thead>\n",
       "    <tr>\n",
       "      <th></th>\n",
       "      <th colspan=\"4\" halign=\"left\">Экранное_время</th>\n",
       "    </tr>\n",
       "    <tr>\n",
       "      <th></th>\n",
       "      <th>max</th>\n",
       "      <th>mean</th>\n",
       "      <th>median</th>\n",
       "      <th>min</th>\n",
       "    </tr>\n",
       "    <tr>\n",
       "      <th>Статус_ментального_здоровья</th>\n",
       "      <th></th>\n",
       "      <th></th>\n",
       "      <th></th>\n",
       "      <th></th>\n",
       "    </tr>\n",
       "  </thead>\n",
       "  <tbody>\n",
       "    <tr>\n",
       "      <th>Excellent</th>\n",
       "      <td>15.00</td>\n",
       "      <td>7.949023</td>\n",
       "      <td>7.86</td>\n",
       "      <td>1.01</td>\n",
       "    </tr>\n",
       "    <tr>\n",
       "      <th>Fair</th>\n",
       "      <td>14.99</td>\n",
       "      <td>7.920964</td>\n",
       "      <td>7.94</td>\n",
       "      <td>1.00</td>\n",
       "    </tr>\n",
       "    <tr>\n",
       "      <th>Good</th>\n",
       "      <td>15.00</td>\n",
       "      <td>8.087707</td>\n",
       "      <td>8.02</td>\n",
       "      <td>1.00</td>\n",
       "    </tr>\n",
       "    <tr>\n",
       "      <th>Poor</th>\n",
       "      <td>15.00</td>\n",
       "      <td>7.944783</td>\n",
       "      <td>7.81</td>\n",
       "      <td>1.00</td>\n",
       "    </tr>\n",
       "  </tbody>\n",
       "</table>\n",
       "</div>"
      ],
      "text/plain": [
       "                            Экранное_время                       \n",
       "                                       max      mean median   min\n",
       "Статус_ментального_здоровья                                      \n",
       "Excellent                            15.00  7.949023   7.86  1.01\n",
       "Fair                                 14.99  7.920964   7.94  1.00\n",
       "Good                                 15.00  8.087707   8.02  1.00\n",
       "Poor                                 15.00  7.944783   7.81  1.00"
      ]
     },
     "execution_count": 53,
     "metadata": {},
     "output_type": "execute_result"
    }
   ],
   "source": [
    "data[['Статус_ментального_здоровья', 'Экранное_время']].groupby('Статус_ментального_здоровья').agg({'Экранное_время' : ['max', 'mean', 'median', 'min']})"
   ]
  },
  {
   "cell_type": "markdown",
   "metadata": {},
   "source": [
    "Связь между Mental_Health_Status и Sleep_Hours:"
   ]
  },
  {
   "cell_type": "code",
   "execution_count": 51,
   "metadata": {},
   "outputs": [
    {
     "data": {
      "text/html": [
       "<div>\n",
       "<style scoped>\n",
       "    .dataframe tbody tr th:only-of-type {\n",
       "        vertical-align: middle;\n",
       "    }\n",
       "\n",
       "    .dataframe tbody tr th {\n",
       "        vertical-align: top;\n",
       "    }\n",
       "\n",
       "    .dataframe thead tr th {\n",
       "        text-align: left;\n",
       "    }\n",
       "\n",
       "    .dataframe thead tr:last-of-type th {\n",
       "        text-align: right;\n",
       "    }\n",
       "</style>\n",
       "<table border=\"1\" class=\"dataframe\">\n",
       "  <thead>\n",
       "    <tr>\n",
       "      <th></th>\n",
       "      <th colspan=\"4\" halign=\"left\">Время_сна</th>\n",
       "    </tr>\n",
       "    <tr>\n",
       "      <th></th>\n",
       "      <th>max</th>\n",
       "      <th>mean</th>\n",
       "      <th>median</th>\n",
       "      <th>min</th>\n",
       "    </tr>\n",
       "    <tr>\n",
       "      <th>Статус_ментального_здоровья</th>\n",
       "      <th></th>\n",
       "      <th></th>\n",
       "      <th></th>\n",
       "      <th></th>\n",
       "    </tr>\n",
       "  </thead>\n",
       "  <tbody>\n",
       "    <tr>\n",
       "      <th>Excellent</th>\n",
       "      <td>9.0</td>\n",
       "      <td>6.480175</td>\n",
       "      <td>6.50</td>\n",
       "      <td>4.0</td>\n",
       "    </tr>\n",
       "    <tr>\n",
       "      <th>Fair</th>\n",
       "      <td>9.0</td>\n",
       "      <td>6.509289</td>\n",
       "      <td>6.54</td>\n",
       "      <td>4.0</td>\n",
       "    </tr>\n",
       "    <tr>\n",
       "      <th>Good</th>\n",
       "      <td>9.0</td>\n",
       "      <td>6.497145</td>\n",
       "      <td>6.45</td>\n",
       "      <td>4.0</td>\n",
       "    </tr>\n",
       "    <tr>\n",
       "      <th>Poor</th>\n",
       "      <td>9.0</td>\n",
       "      <td>6.516582</td>\n",
       "      <td>6.52</td>\n",
       "      <td>4.0</td>\n",
       "    </tr>\n",
       "  </tbody>\n",
       "</table>\n",
       "</div>"
      ],
      "text/plain": [
       "                            Время_сна                      \n",
       "                                  max      mean median  min\n",
       "Статус_ментального_здоровья                                \n",
       "Excellent                         9.0  6.480175   6.50  4.0\n",
       "Fair                              9.0  6.509289   6.54  4.0\n",
       "Good                              9.0  6.497145   6.45  4.0\n",
       "Poor                              9.0  6.516582   6.52  4.0"
      ]
     },
     "execution_count": 51,
     "metadata": {},
     "output_type": "execute_result"
    }
   ],
   "source": [
    "data[['Статус_ментального_здоровья', 'Время_сна']].groupby('Статус_ментального_здоровья').agg({'Время_сна' : ['max', 'mean', 'median', 'min']})"
   ]
  },
  {
   "cell_type": "markdown",
   "metadata": {},
   "source": [
    "Теперь опишем зависимости по вариантам:\n",
    "\n",
    "1. с игровым временем: видно, что выборка симметричная. Так как во всех категориях значения примерно одинаковые, то прямой зависимости не наблюдается;\n",
    "\n",
    "2. с экранным временем: видно, что выборка симметричная. Так как во всех категориях значения примерно одинаковые, то прямой зависимости не наблюдается;\n",
    "\n",
    "3. с временем сна: видно, что выборка симметричная. Так как во всех категориях значения примерно одинаковые, то прямой зависимости не наблюдается."
   ]
  }
 ],
 "metadata": {
  "kernelspec": {
   "display_name": "ml_university",
   "language": "python",
   "name": "python3"
  },
  "language_info": {
   "codemirror_mode": {
    "name": "ipython",
    "version": 3
   },
   "file_extension": ".py",
   "mimetype": "text/x-python",
   "name": "python",
   "nbconvert_exporter": "python",
   "pygments_lexer": "ipython3",
   "version": "3.12.5"
  }
 },
 "nbformat": 4,
 "nbformat_minor": 2
}
